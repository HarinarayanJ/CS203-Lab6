{
  "cells": [
    {
      "cell_type": "code",
      "execution_count": 2,
      "metadata": {
        "colab": {
          "base_uri": "https://localhost:8080/"
        },
        "id": "rUdNB4JUKlsz",
        "outputId": "5150dcc8-1a92-4ce4-d8ba-ab9b02494648"
      },
      "outputs": [
        {
          "output_type": "stream",
          "name": "stdout",
          "text": [
            "Python 3.11.11\n"
          ]
        }
      ],
      "source": [
        "!python --version"
      ]
    },
    {
      "cell_type": "code",
      "execution_count": 3,
      "metadata": {
        "colab": {
          "base_uri": "https://localhost:8080/"
        },
        "id": "fz241UsAKrVr",
        "outputId": "27f12f79-d4c0-4951-a871-f533f2c56c62"
      },
      "outputs": [
        {
          "output_type": "stream",
          "name": "stdout",
          "text": [
            "--2025-02-27 16:34:22--  https://repo.anaconda.com/miniconda/Miniconda3-py38_23.11.0-2-Linux-x86_64.sh\n",
            "Resolving repo.anaconda.com (repo.anaconda.com)... 104.16.191.158, 104.16.32.241, 2606:4700::6810:bf9e, ...\n",
            "Connecting to repo.anaconda.com (repo.anaconda.com)|104.16.191.158|:443... connected.\n",
            "HTTP request sent, awaiting response... 200 OK\n",
            "Length: 131844786 (126M) [application/octet-stream]\n",
            "Saving to: ‘mini.sh’\n",
            "\n",
            "mini.sh             100%[===================>] 125.74M   135MB/s    in 0.9s    \n",
            "\n",
            "2025-02-27 16:34:23 (135 MB/s) - ‘mini.sh’ saved [131844786/131844786]\n",
            "\n",
            "PREFIX=/usr/local\n",
            "Unpacking payload ...\n",
            "                                                                                       \n",
            "Installing base environment...\n",
            "\n",
            "\n",
            "Downloading and Extracting Packages:\n",
            "\n",
            "\n",
            "Downloading and Extracting Packages:\n",
            "\n",
            "Preparing transaction: - \b\b\\ \b\b| \b\b/ \b\bdone\n",
            "Executing transaction: \\ \b\b| \b\b/ \b\b- \b\b\\ \b\b| \b\b/ \b\b- \b\b\\ \b\b| \b\b/ \b\b- \b\b\\ \b\b| \b\b/ \b\b- \b\b\\ \b\b| \b\b/ \b\b- \b\b\\ \b\b| \b\b/ \b\b- \b\b\\ \b\b| \b\b/ \b\b- \b\b\\ \b\b| \b\b/ \b\b- \b\b\\ \b\b| \b\b/ \b\b- \b\b\\ \b\b| \b\b/ \b\b- \b\b\\ \b\b| \b\b/ \b\b- \b\b\\ \b\b| \b\b/ \b\b- \b\b\\ \b\b| \b\b/ \b\b- \b\b\\ \b\b| \b\b/ \b\bdone\n",
            "installation finished.\n",
            "WARNING:\n",
            "    You currently have a PYTHONPATH environment variable set. This may cause\n",
            "    unexpected behavior when running the Python interpreter in Miniconda3.\n",
            "    For best results, please verify that your PYTHONPATH only points to\n",
            "    directories of packages that are compatible with the Python interpreter\n",
            "    in Miniconda3: /usr/local\n",
            "Channels:\n",
            " - defaults\n",
            "Platform: linux-64\n",
            "Collecting package metadata (repodata.json): ...working... done\n",
            "Solving environment: ...working... done\n",
            "\n",
            "## Package Plan ##\n",
            "\n",
            "  environment location: /usr/local\n",
            "\n",
            "  added / updated specs:\n",
            "    - jupyter\n",
            "\n",
            "\n",
            "The following packages will be downloaded:\n",
            "\n",
            "    package                    |            build\n",
            "    ---------------------------|-----------------\n",
            "    anyio-4.2.0                |   py38h06a4308_0         185 KB\n",
            "    archspec-0.2.3             |     pyhd3eb1b0_0          47 KB\n",
            "    argon2-cffi-21.3.0         |     pyhd3eb1b0_0          15 KB\n",
            "    argon2-cffi-bindings-21.2.0|   py38h7f8727e_0          33 KB\n",
            "    asttokens-2.0.5            |     pyhd3eb1b0_0          20 KB\n",
            "    async-lru-2.0.4            |   py38h06a4308_0          17 KB\n",
            "    attrs-24.2.0               |   py38h06a4308_0         149 KB\n",
            "    babel-2.11.0               |   py38h06a4308_0         6.8 MB\n",
            "    backcall-0.2.0             |     pyhd3eb1b0_0          13 KB\n",
            "    beautifulsoup4-4.12.3      |   py38h06a4308_0         218 KB\n",
            "    bleach-4.1.0               |     pyhd3eb1b0_0         123 KB\n",
            "    ca-certificates-2025.2.25  |       h06a4308_0         129 KB\n",
            "    certifi-2024.8.30          |   py38h06a4308_0         162 KB\n",
            "    comm-0.2.1                 |   py38h06a4308_0          14 KB\n",
            "    conda-24.9.2               |   py38h06a4308_0         910 KB\n",
            "    cyrus-sasl-2.1.28          |       h52b45da_1         237 KB\n",
            "    dbus-1.13.18               |       hb2f20db_0         504 KB\n",
            "    debugpy-1.6.7              |   py38h6a678d5_0         2.0 MB\n",
            "    decorator-5.1.1            |     pyhd3eb1b0_0          12 KB\n",
            "    defusedxml-0.7.1           |     pyhd3eb1b0_0          23 KB\n",
            "    exceptiongroup-1.2.0       |   py38h06a4308_0          29 KB\n",
            "    executing-0.8.3            |     pyhd3eb1b0_0          18 KB\n",
            "    expat-2.6.4                |       h6a678d5_0         180 KB\n",
            "    fontconfig-2.14.1          |       h4c34cd2_2         281 KB\n",
            "    freetype-2.12.1            |       h4a9f257_0         626 KB\n",
            "    frozendict-2.4.2           |   py38h5eee18b_0          55 KB\n",
            "    glib-2.78.4                |       h6a678d5_0         508 KB\n",
            "    glib-tools-2.78.4          |       h6a678d5_0         115 KB\n",
            "    gst-plugins-base-1.14.1    |       h6a678d5_1         2.2 MB\n",
            "    gstreamer-1.14.1           |       h5eee18b_1         1.7 MB\n",
            "    h11-0.14.0                 |   py38h06a4308_0          89 KB\n",
            "    httpcore-1.0.2             |   py38h06a4308_0          82 KB\n",
            "    httpx-0.27.0               |   py38h06a4308_0         169 KB\n",
            "    importlib-metadata-7.0.1   |   py38h06a4308_0          40 KB\n",
            "    importlib_metadata-7.0.1   |       hd3eb1b0_0           8 KB\n",
            "    importlib_resources-6.4.0  |   py38h06a4308_0          61 KB\n",
            "    ipykernel-6.29.5           |   py38h06a4308_0         205 KB\n",
            "    ipython-8.12.2             |   py38h06a4308_0         1.1 MB\n",
            "    ipywidgets-8.1.2           |   py38h06a4308_0         198 KB\n",
            "    jedi-0.19.1                |   py38h06a4308_0         1.0 MB\n",
            "    jinja2-3.1.4               |   py38h06a4308_0         275 KB\n",
            "    jpeg-9e                    |       h5eee18b_3         262 KB\n",
            "    json5-0.9.6                |     pyhd3eb1b0_0          21 KB\n",
            "    jsonschema-4.23.0          |   py38h06a4308_0         153 KB\n",
            "    jsonschema-specifications-2023.7.1|   py38h06a4308_0          15 KB\n",
            "    jupyter-1.0.0              |   py38h06a4308_9           7 KB\n",
            "    jupyter-lsp-2.2.0          |   py38h06a4308_0          86 KB\n",
            "    jupyter_client-8.6.0       |   py38h06a4308_0         183 KB\n",
            "    jupyter_console-6.6.3      |   py38h06a4308_0          45 KB\n",
            "    jupyter_core-5.7.2         |   py38h06a4308_0          80 KB\n",
            "    jupyter_events-0.10.0      |   py38h06a4308_0          37 KB\n",
            "    jupyter_server-2.14.1      |   py38h06a4308_0         493 KB\n",
            "    jupyter_server_terminals-0.4.4|   py38h06a4308_1          24 KB\n",
            "    jupyterlab-4.2.5           |   py38h06a4308_0         5.6 MB\n",
            "    jupyterlab_pygments-0.1.2  |             py_0           8 KB\n",
            "    jupyterlab_server-2.27.3   |   py38h06a4308_0          88 KB\n",
            "    jupyterlab_widgets-3.0.10  |   py38h06a4308_0         194 KB\n",
            "    libclang-14.0.6            |default_hc6dbbc7_2         137 KB\n",
            "    libclang13-14.0.6          |default_he11475f_2         9.7 MB\n",
            "    libcups-2.4.2              |       h2d74bed_1         4.5 MB\n",
            "    libglib-2.78.4             |       hdc74915_0         1.5 MB\n",
            "    libiconv-1.16              |       h5eee18b_3         759 KB\n",
            "    libllvm14-14.0.6           |       hecde1de_4        33.4 MB\n",
            "    libpng-1.6.39              |       h5eee18b_0         304 KB\n",
            "    libpq-12.20                |       hdbd6064_0         2.5 MB\n",
            "    libsodium-1.0.18           |       h7b6447c_0         244 KB\n",
            "    libuuid-1.41.5             |       h5eee18b_0          27 KB\n",
            "    libxcb-1.15                |       h7f8727e_0         505 KB\n",
            "    libxkbcommon-1.0.1         |       h5eee18b_1         590 KB\n",
            "    markupsafe-2.1.3           |   py38h5eee18b_0          22 KB\n",
            "    matplotlib-inline-0.1.6    |   py38h06a4308_0          16 KB\n",
            "    mistune-2.0.4              |   py38h06a4308_0          93 KB\n",
            "    mysql-5.7.24               |       h721c034_2        60.0 MB\n",
            "    nbclient-0.8.0             |   py38h06a4308_0          97 KB\n",
            "    nbconvert-7.16.4           |   py38h06a4308_0         470 KB\n",
            "    nbformat-5.10.4            |   py38h06a4308_0         138 KB\n",
            "    nest-asyncio-1.6.0         |   py38h06a4308_0          14 KB\n",
            "    notebook-7.2.2             |   py38h06a4308_1         4.0 MB\n",
            "    notebook-shim-0.2.3        |   py38h06a4308_0          22 KB\n",
            "    openssl-3.0.15             |       h5eee18b_0         5.2 MB\n",
            "    overrides-7.4.0            |   py38h06a4308_0          29 KB\n",
            "    pandocfilters-1.5.0        |     pyhd3eb1b0_0          11 KB\n",
            "    parso-0.8.3                |     pyhd3eb1b0_0          70 KB\n",
            "    pexpect-4.8.0              |     pyhd3eb1b0_3          53 KB\n",
            "    pickleshare-0.7.5          |  pyhd3eb1b0_1003          13 KB\n",
            "    pkgutil-resolve-name-1.3.10|   py38h06a4308_1          10 KB\n",
            "    ply-3.11                   |           py38_0          81 KB\n",
            "    prometheus_client-0.14.1   |   py38h06a4308_0          90 KB\n",
            "    prompt-toolkit-3.0.43      |   py38h06a4308_0         571 KB\n",
            "    prompt_toolkit-3.0.43      |       hd3eb1b0_0           5 KB\n",
            "    psutil-5.9.0               |   py38h5eee18b_0         330 KB\n",
            "    ptyprocess-0.7.0           |     pyhd3eb1b0_2          17 KB\n",
            "    pure_eval-0.2.2            |     pyhd3eb1b0_0          14 KB\n",
            "    pygments-2.15.1            |   py38h06a4308_1         1.8 MB\n",
            "    pyqt-5.15.10               |   py38h6a678d5_0         5.7 MB\n",
            "    pyqt5-sip-12.13.0          |   py38h5eee18b_0          95 KB\n",
            "    python-dateutil-2.9.0post0 |   py38h06a4308_2         279 KB\n",
            "    python-fastjsonschema-2.16.2|   py38h06a4308_0         230 KB\n",
            "    python-json-logger-2.0.7   |   py38h06a4308_0          16 KB\n",
            "    pytz-2024.1                |   py38h06a4308_0         213 KB\n",
            "    pyyaml-6.0.2               |   py38h5eee18b_0         196 KB\n",
            "    pyzmq-25.1.2               |   py38h6a678d5_0         463 KB\n",
            "    qt-main-5.15.2             |      h53bd1ea_10        53.7 MB\n",
            "    qtconsole-5.6.0            |   py38h06a4308_0         207 KB\n",
            "    qtpy-2.4.1                 |   py38h06a4308_0         108 KB\n",
            "    referencing-0.30.2         |   py38h06a4308_0          61 KB\n",
            "    rfc3339-validator-0.1.4    |   py38h06a4308_0           9 KB\n",
            "    rfc3986-validator-0.1.1    |   py38h06a4308_0           9 KB\n",
            "    rpds-py-0.10.6             |   py38hb02cf49_0        1005 KB\n",
            "    send2trash-1.8.2           |   py38h06a4308_0          26 KB\n",
            "    sip-6.7.12                 |   py38h6a678d5_0         508 KB\n",
            "    six-1.16.0                 |     pyhd3eb1b0_1          18 KB\n",
            "    sniffio-1.3.0              |   py38h06a4308_0          15 KB\n",
            "    soupsieve-2.5              |   py38h06a4308_0          69 KB\n",
            "    stack_data-0.2.0           |     pyhd3eb1b0_0          22 KB\n",
            "    terminado-0.17.1           |   py38h06a4308_0          31 KB\n",
            "    tinycss2-1.2.1             |   py38h06a4308_0          40 KB\n",
            "    tomli-2.0.1                |   py38h06a4308_0          24 KB\n",
            "    tornado-6.4.1              |   py38h5eee18b_0         644 KB\n",
            "    traitlets-5.14.3           |   py38h06a4308_0         179 KB\n",
            "    typing-extensions-4.11.0   |   py38h06a4308_0           9 KB\n",
            "    typing_extensions-4.11.0   |   py38h06a4308_0          59 KB\n",
            "    wcwidth-0.2.5              |     pyhd3eb1b0_0          26 KB\n",
            "    webencodings-0.5.1         |           py38_1          20 KB\n",
            "    websocket-client-1.8.0     |   py38h06a4308_0          90 KB\n",
            "    widgetsnbextension-4.0.10  |   py38h06a4308_0         947 KB\n",
            "    yaml-0.2.5                 |       h7b6447c_0          75 KB\n",
            "    zeromq-4.3.5               |       h6a678d5_0         366 KB\n",
            "    zipp-3.20.2                |   py38h06a4308_0          25 KB\n",
            "    ------------------------------------------------------------\n",
            "                                           Total:       220.2 MB\n",
            "\n",
            "The following NEW packages will be INSTALLED:\n",
            "\n",
            "  anyio              pkgs/main/linux-64::anyio-4.2.0-py38h06a4308_0 \n",
            "  argon2-cffi        pkgs/main/noarch::argon2-cffi-21.3.0-pyhd3eb1b0_0 \n",
            "  argon2-cffi-bindi~ pkgs/main/linux-64::argon2-cffi-bindings-21.2.0-py38h7f8727e_0 \n",
            "  asttokens          pkgs/main/noarch::asttokens-2.0.5-pyhd3eb1b0_0 \n",
            "  async-lru          pkgs/main/linux-64::async-lru-2.0.4-py38h06a4308_0 \n",
            "  attrs              pkgs/main/linux-64::attrs-24.2.0-py38h06a4308_0 \n",
            "  babel              pkgs/main/linux-64::babel-2.11.0-py38h06a4308_0 \n",
            "  backcall           pkgs/main/noarch::backcall-0.2.0-pyhd3eb1b0_0 \n",
            "  beautifulsoup4     pkgs/main/linux-64::beautifulsoup4-4.12.3-py38h06a4308_0 \n",
            "  bleach             pkgs/main/noarch::bleach-4.1.0-pyhd3eb1b0_0 \n",
            "  comm               pkgs/main/linux-64::comm-0.2.1-py38h06a4308_0 \n",
            "  cyrus-sasl         pkgs/main/linux-64::cyrus-sasl-2.1.28-h52b45da_1 \n",
            "  dbus               pkgs/main/linux-64::dbus-1.13.18-hb2f20db_0 \n",
            "  debugpy            pkgs/main/linux-64::debugpy-1.6.7-py38h6a678d5_0 \n",
            "  decorator          pkgs/main/noarch::decorator-5.1.1-pyhd3eb1b0_0 \n",
            "  defusedxml         pkgs/main/noarch::defusedxml-0.7.1-pyhd3eb1b0_0 \n",
            "  exceptiongroup     pkgs/main/linux-64::exceptiongroup-1.2.0-py38h06a4308_0 \n",
            "  executing          pkgs/main/noarch::executing-0.8.3-pyhd3eb1b0_0 \n",
            "  expat              pkgs/main/linux-64::expat-2.6.4-h6a678d5_0 \n",
            "  fontconfig         pkgs/main/linux-64::fontconfig-2.14.1-h4c34cd2_2 \n",
            "  freetype           pkgs/main/linux-64::freetype-2.12.1-h4a9f257_0 \n",
            "  frozendict         pkgs/main/linux-64::frozendict-2.4.2-py38h5eee18b_0 \n",
            "  glib               pkgs/main/linux-64::glib-2.78.4-h6a678d5_0 \n",
            "  glib-tools         pkgs/main/linux-64::glib-tools-2.78.4-h6a678d5_0 \n",
            "  gst-plugins-base   pkgs/main/linux-64::gst-plugins-base-1.14.1-h6a678d5_1 \n",
            "  gstreamer          pkgs/main/linux-64::gstreamer-1.14.1-h5eee18b_1 \n",
            "  h11                pkgs/main/linux-64::h11-0.14.0-py38h06a4308_0 \n",
            "  httpcore           pkgs/main/linux-64::httpcore-1.0.2-py38h06a4308_0 \n",
            "  httpx              pkgs/main/linux-64::httpx-0.27.0-py38h06a4308_0 \n",
            "  importlib-metadata pkgs/main/linux-64::importlib-metadata-7.0.1-py38h06a4308_0 \n",
            "  importlib_metadata pkgs/main/noarch::importlib_metadata-7.0.1-hd3eb1b0_0 \n",
            "  importlib_resourc~ pkgs/main/linux-64::importlib_resources-6.4.0-py38h06a4308_0 \n",
            "  ipykernel          pkgs/main/linux-64::ipykernel-6.29.5-py38h06a4308_0 \n",
            "  ipython            pkgs/main/linux-64::ipython-8.12.2-py38h06a4308_0 \n",
            "  ipywidgets         pkgs/main/linux-64::ipywidgets-8.1.2-py38h06a4308_0 \n",
            "  jedi               pkgs/main/linux-64::jedi-0.19.1-py38h06a4308_0 \n",
            "  jinja2             pkgs/main/linux-64::jinja2-3.1.4-py38h06a4308_0 \n",
            "  jpeg               pkgs/main/linux-64::jpeg-9e-h5eee18b_3 \n",
            "  json5              pkgs/main/noarch::json5-0.9.6-pyhd3eb1b0_0 \n",
            "  jsonschema         pkgs/main/linux-64::jsonschema-4.23.0-py38h06a4308_0 \n",
            "  jsonschema-specif~ pkgs/main/linux-64::jsonschema-specifications-2023.7.1-py38h06a4308_0 \n",
            "  jupyter            pkgs/main/linux-64::jupyter-1.0.0-py38h06a4308_9 \n",
            "  jupyter-lsp        pkgs/main/linux-64::jupyter-lsp-2.2.0-py38h06a4308_0 \n",
            "  jupyter_client     pkgs/main/linux-64::jupyter_client-8.6.0-py38h06a4308_0 \n",
            "  jupyter_console    pkgs/main/linux-64::jupyter_console-6.6.3-py38h06a4308_0 \n",
            "  jupyter_core       pkgs/main/linux-64::jupyter_core-5.7.2-py38h06a4308_0 \n",
            "  jupyter_events     pkgs/main/linux-64::jupyter_events-0.10.0-py38h06a4308_0 \n",
            "  jupyter_server     pkgs/main/linux-64::jupyter_server-2.14.1-py38h06a4308_0 \n",
            "  jupyter_server_te~ pkgs/main/linux-64::jupyter_server_terminals-0.4.4-py38h06a4308_1 \n",
            "  jupyterlab         pkgs/main/linux-64::jupyterlab-4.2.5-py38h06a4308_0 \n",
            "  jupyterlab_pygmen~ pkgs/main/noarch::jupyterlab_pygments-0.1.2-py_0 \n",
            "  jupyterlab_server  pkgs/main/linux-64::jupyterlab_server-2.27.3-py38h06a4308_0 \n",
            "  jupyterlab_widgets pkgs/main/linux-64::jupyterlab_widgets-3.0.10-py38h06a4308_0 \n",
            "  libclang           pkgs/main/linux-64::libclang-14.0.6-default_hc6dbbc7_2 \n",
            "  libclang13         pkgs/main/linux-64::libclang13-14.0.6-default_he11475f_2 \n",
            "  libcups            pkgs/main/linux-64::libcups-2.4.2-h2d74bed_1 \n",
            "  libglib            pkgs/main/linux-64::libglib-2.78.4-hdc74915_0 \n",
            "  libiconv           pkgs/main/linux-64::libiconv-1.16-h5eee18b_3 \n",
            "  libllvm14          pkgs/main/linux-64::libllvm14-14.0.6-hecde1de_4 \n",
            "  libpng             pkgs/main/linux-64::libpng-1.6.39-h5eee18b_0 \n",
            "  libpq              pkgs/main/linux-64::libpq-12.20-hdbd6064_0 \n",
            "  libsodium          pkgs/main/linux-64::libsodium-1.0.18-h7b6447c_0 \n",
            "  libuuid            pkgs/main/linux-64::libuuid-1.41.5-h5eee18b_0 \n",
            "  libxcb             pkgs/main/linux-64::libxcb-1.15-h7f8727e_0 \n",
            "  libxkbcommon       pkgs/main/linux-64::libxkbcommon-1.0.1-h5eee18b_1 \n",
            "  markupsafe         pkgs/main/linux-64::markupsafe-2.1.3-py38h5eee18b_0 \n",
            "  matplotlib-inline  pkgs/main/linux-64::matplotlib-inline-0.1.6-py38h06a4308_0 \n",
            "  mistune            pkgs/main/linux-64::mistune-2.0.4-py38h06a4308_0 \n",
            "  mysql              pkgs/main/linux-64::mysql-5.7.24-h721c034_2 \n",
            "  nbclient           pkgs/main/linux-64::nbclient-0.8.0-py38h06a4308_0 \n",
            "  nbconvert          pkgs/main/linux-64::nbconvert-7.16.4-py38h06a4308_0 \n",
            "  nbformat           pkgs/main/linux-64::nbformat-5.10.4-py38h06a4308_0 \n",
            "  nest-asyncio       pkgs/main/linux-64::nest-asyncio-1.6.0-py38h06a4308_0 \n",
            "  notebook           pkgs/main/linux-64::notebook-7.2.2-py38h06a4308_1 \n",
            "  notebook-shim      pkgs/main/linux-64::notebook-shim-0.2.3-py38h06a4308_0 \n",
            "  overrides          pkgs/main/linux-64::overrides-7.4.0-py38h06a4308_0 \n",
            "  pandocfilters      pkgs/main/noarch::pandocfilters-1.5.0-pyhd3eb1b0_0 \n",
            "  parso              pkgs/main/noarch::parso-0.8.3-pyhd3eb1b0_0 \n",
            "  pexpect            pkgs/main/noarch::pexpect-4.8.0-pyhd3eb1b0_3 \n",
            "  pickleshare        pkgs/main/noarch::pickleshare-0.7.5-pyhd3eb1b0_1003 \n",
            "  pkgutil-resolve-n~ pkgs/main/linux-64::pkgutil-resolve-name-1.3.10-py38h06a4308_1 \n",
            "  ply                pkgs/main/linux-64::ply-3.11-py38_0 \n",
            "  prometheus_client  pkgs/main/linux-64::prometheus_client-0.14.1-py38h06a4308_0 \n",
            "  prompt-toolkit     pkgs/main/linux-64::prompt-toolkit-3.0.43-py38h06a4308_0 \n",
            "  prompt_toolkit     pkgs/main/noarch::prompt_toolkit-3.0.43-hd3eb1b0_0 \n",
            "  psutil             pkgs/main/linux-64::psutil-5.9.0-py38h5eee18b_0 \n",
            "  ptyprocess         pkgs/main/noarch::ptyprocess-0.7.0-pyhd3eb1b0_2 \n",
            "  pure_eval          pkgs/main/noarch::pure_eval-0.2.2-pyhd3eb1b0_0 \n",
            "  pygments           pkgs/main/linux-64::pygments-2.15.1-py38h06a4308_1 \n",
            "  pyqt               pkgs/main/linux-64::pyqt-5.15.10-py38h6a678d5_0 \n",
            "  pyqt5-sip          pkgs/main/linux-64::pyqt5-sip-12.13.0-py38h5eee18b_0 \n",
            "  python-dateutil    pkgs/main/linux-64::python-dateutil-2.9.0post0-py38h06a4308_2 \n",
            "  python-fastjsonsc~ pkgs/main/linux-64::python-fastjsonschema-2.16.2-py38h06a4308_0 \n",
            "  python-json-logger pkgs/main/linux-64::python-json-logger-2.0.7-py38h06a4308_0 \n",
            "  pytz               pkgs/main/linux-64::pytz-2024.1-py38h06a4308_0 \n",
            "  pyyaml             pkgs/main/linux-64::pyyaml-6.0.2-py38h5eee18b_0 \n",
            "  pyzmq              pkgs/main/linux-64::pyzmq-25.1.2-py38h6a678d5_0 \n",
            "  qt-main            pkgs/main/linux-64::qt-main-5.15.2-h53bd1ea_10 \n",
            "  qtconsole          pkgs/main/linux-64::qtconsole-5.6.0-py38h06a4308_0 \n",
            "  qtpy               pkgs/main/linux-64::qtpy-2.4.1-py38h06a4308_0 \n",
            "  referencing        pkgs/main/linux-64::referencing-0.30.2-py38h06a4308_0 \n",
            "  rfc3339-validator  pkgs/main/linux-64::rfc3339-validator-0.1.4-py38h06a4308_0 \n",
            "  rfc3986-validator  pkgs/main/linux-64::rfc3986-validator-0.1.1-py38h06a4308_0 \n",
            "  rpds-py            pkgs/main/linux-64::rpds-py-0.10.6-py38hb02cf49_0 \n",
            "  send2trash         pkgs/main/linux-64::send2trash-1.8.2-py38h06a4308_0 \n",
            "  sip                pkgs/main/linux-64::sip-6.7.12-py38h6a678d5_0 \n",
            "  six                pkgs/main/noarch::six-1.16.0-pyhd3eb1b0_1 \n",
            "  sniffio            pkgs/main/linux-64::sniffio-1.3.0-py38h06a4308_0 \n",
            "  soupsieve          pkgs/main/linux-64::soupsieve-2.5-py38h06a4308_0 \n",
            "  stack_data         pkgs/main/noarch::stack_data-0.2.0-pyhd3eb1b0_0 \n",
            "  terminado          pkgs/main/linux-64::terminado-0.17.1-py38h06a4308_0 \n",
            "  tinycss2           pkgs/main/linux-64::tinycss2-1.2.1-py38h06a4308_0 \n",
            "  tomli              pkgs/main/linux-64::tomli-2.0.1-py38h06a4308_0 \n",
            "  tornado            pkgs/main/linux-64::tornado-6.4.1-py38h5eee18b_0 \n",
            "  traitlets          pkgs/main/linux-64::traitlets-5.14.3-py38h06a4308_0 \n",
            "  typing-extensions  pkgs/main/linux-64::typing-extensions-4.11.0-py38h06a4308_0 \n",
            "  typing_extensions  pkgs/main/linux-64::typing_extensions-4.11.0-py38h06a4308_0 \n",
            "  wcwidth            pkgs/main/noarch::wcwidth-0.2.5-pyhd3eb1b0_0 \n",
            "  webencodings       pkgs/main/linux-64::webencodings-0.5.1-py38_1 \n",
            "  websocket-client   pkgs/main/linux-64::websocket-client-1.8.0-py38h06a4308_0 \n",
            "  widgetsnbextension pkgs/main/linux-64::widgetsnbextension-4.0.10-py38h06a4308_0 \n",
            "  yaml               pkgs/main/linux-64::yaml-0.2.5-h7b6447c_0 \n",
            "  zeromq             pkgs/main/linux-64::zeromq-4.3.5-h6a678d5_0 \n",
            "  zipp               pkgs/main/linux-64::zipp-3.20.2-py38h06a4308_0 \n",
            "\n",
            "The following packages will be UPDATED:\n",
            "\n",
            "  archspec                               0.2.1-pyhd3eb1b0_0 --> 0.2.3-pyhd3eb1b0_0 \n",
            "  ca-certificates                     2023.12.12-h06a4308_0 --> 2025.2.25-h06a4308_0 \n",
            "  certifi                         2023.11.17-py38h06a4308_0 --> 2024.8.30-py38h06a4308_0 \n",
            "  conda                              23.11.0-py38h06a4308_0 --> 24.9.2-py38h06a4308_0 \n",
            "  openssl                                 3.0.12-h7f8727e_0 --> 3.0.15-h5eee18b_0 \n",
            "\n",
            "\n",
            "Preparing transaction: ...working... done\n",
            "Verifying transaction: ...working... done\n",
            "Executing transaction: ...working... done\n",
            "/usr/local/lib/python3.8/site-packages/conda/base/context.py:198: FutureWarning: Adding 'defaults' to channel list implicitly is deprecated and will be removed in 25.3. \n",
            "\n",
            "To remove this warning, please choose a default channel explicitly with conda's regular configuration system, e.g. by adding 'defaults' to the list of channels:\n",
            "\n",
            "  conda config --add channels defaults\n",
            "\n",
            "For more information see https://docs.conda.io/projects/conda/en/stable/user-guide/configuration/use-condarc.html\n",
            "\n",
            "  deprecated.topic(\n",
            "/usr/local/lib/python3.8/site-packages/conda/base/context.py:198: FutureWarning: Adding 'defaults' to channel list implicitly is deprecated and will be removed in 25.3. \n",
            "\n",
            "To remove this warning, please choose a default channel explicitly with conda's regular configuration system, e.g. by adding 'defaults' to the list of channels:\n",
            "\n",
            "  conda config --add channels defaults\n",
            "\n",
            "For more information see https://docs.conda.io/projects/conda/en/stable/user-guide/configuration/use-condarc.html\n",
            "\n",
            "  deprecated.topic(\n",
            "Channels:\n",
            " - conda-forge\n",
            " - defaults\n",
            "Platform: linux-64\n",
            "Collecting package metadata (repodata.json): ...working... done\n",
            "Solving environment: ...working... done\n",
            "\n",
            "## Package Plan ##\n",
            "\n",
            "  environment location: /usr/local\n",
            "\n",
            "  added / updated specs:\n",
            "    - google-colab\n",
            "\n",
            "\n",
            "The following packages will be downloaded:\n",
            "\n",
            "    package                    |            build\n",
            "    ---------------------------|-----------------\n",
            "    aiohappyeyeballs-2.4.3     |     pyhd8ed1ab_0          19 KB  conda-forge\n",
            "    aiohttp-3.10.5             |   py38h2019614_0         697 KB  conda-forge\n",
            "    aiosignal-1.3.1            |     pyhd8ed1ab_0          12 KB  conda-forge\n",
            "    async-timeout-4.0.3        |     pyhd8ed1ab_0          11 KB  conda-forge\n",
            "    cachetools-5.5.0           |     pyhd8ed1ab_0          14 KB  conda-forge\n",
            "    certifi-2024.8.30          |     pyhd8ed1ab_0         160 KB  conda-forge\n",
            "    frozenlist-1.4.1           |   py38h01eb140_0          59 KB  conda-forge\n",
            "    google-auth-2.35.0         |     pyhff2d567_0         113 KB  conda-forge\n",
            "    google-colab-1.0.0         |     pyh44b312d_0          77 KB  conda-forge\n",
            "    libblas-3.9.0              |31_h59b9bed_openblas          16 KB  conda-forge\n",
            "    libcblas-3.9.0             |31_he106b2a_openblas          16 KB  conda-forge\n",
            "    libgcc-14.2.0              |       h767d61c_2         828 KB  conda-forge\n",
            "    libgcc-ng-14.2.0           |       h69a702a_2          52 KB  conda-forge\n",
            "    libgfortran-14.2.0         |       h69a702a_2          52 KB  conda-forge\n",
            "    libgfortran5-14.2.0        |       hf1ad2bd_2         1.4 MB  conda-forge\n",
            "    libgomp-14.2.0             |       h767d61c_2         449 KB  conda-forge\n",
            "    liblapack-3.9.0            |31_h7ac8fdf_openblas          16 KB  conda-forge\n",
            "    libopenblas-0.3.29         |pthreads_h94d23a6_0         5.6 MB  conda-forge\n",
            "    multidict-6.0.5            |   py38h01eb140_0          56 KB  conda-forge\n",
            "    numpy-1.22.3               |   py38h99721a1_2         6.8 MB  conda-forge\n",
            "    openssl-3.4.1              |       h7b32b05_0         2.8 MB  conda-forge\n",
            "    pandas-1.4.2               |   py38h47df419_1        12.6 MB  conda-forge\n",
            "    portpicker-1.6.0           |     pyhd8ed1ab_0          20 KB  conda-forge\n",
            "    pyasn1-0.6.1               |     pyhd8ed1ab_1          61 KB  conda-forge\n",
            "    pyasn1-modules-0.4.1       |     pyhd8ed1ab_0          94 KB  conda-forge\n",
            "    python_abi-3.8             |           2_cp38           4 KB  conda-forge\n",
            "    pyu2f-0.1.5                |     pyhd8ed1ab_0          31 KB  conda-forge\n",
            "    rsa-4.9                    |     pyhd8ed1ab_0          29 KB  conda-forge\n",
            "    yarl-1.9.4                 |   py38h01eb140_0         113 KB  conda-forge\n",
            "    ------------------------------------------------------------\n",
            "                                           Total:        32.2 MB\n",
            "\n",
            "The following NEW packages will be INSTALLED:\n",
            "\n",
            "  aiohappyeyeballs   conda-forge/noarch::aiohappyeyeballs-2.4.3-pyhd8ed1ab_0 \n",
            "  aiohttp            conda-forge/linux-64::aiohttp-3.10.5-py38h2019614_0 \n",
            "  aiosignal          conda-forge/noarch::aiosignal-1.3.1-pyhd8ed1ab_0 \n",
            "  async-timeout      conda-forge/noarch::async-timeout-4.0.3-pyhd8ed1ab_0 \n",
            "  cachetools         conda-forge/noarch::cachetools-5.5.0-pyhd8ed1ab_0 \n",
            "  frozenlist         conda-forge/linux-64::frozenlist-1.4.1-py38h01eb140_0 \n",
            "  google-auth        conda-forge/noarch::google-auth-2.35.0-pyhff2d567_0 \n",
            "  google-colab       conda-forge/noarch::google-colab-1.0.0-pyh44b312d_0 \n",
            "  libblas            conda-forge/linux-64::libblas-3.9.0-31_h59b9bed_openblas \n",
            "  libcblas           conda-forge/linux-64::libcblas-3.9.0-31_he106b2a_openblas \n",
            "  libgcc             conda-forge/linux-64::libgcc-14.2.0-h767d61c_2 \n",
            "  libgfortran        conda-forge/linux-64::libgfortran-14.2.0-h69a702a_2 \n",
            "  libgfortran5       conda-forge/linux-64::libgfortran5-14.2.0-hf1ad2bd_2 \n",
            "  liblapack          conda-forge/linux-64::liblapack-3.9.0-31_h7ac8fdf_openblas \n",
            "  libopenblas        conda-forge/linux-64::libopenblas-0.3.29-pthreads_h94d23a6_0 \n",
            "  multidict          conda-forge/linux-64::multidict-6.0.5-py38h01eb140_0 \n",
            "  numpy              conda-forge/linux-64::numpy-1.22.3-py38h99721a1_2 \n",
            "  pandas             conda-forge/linux-64::pandas-1.4.2-py38h47df419_1 \n",
            "  portpicker         conda-forge/noarch::portpicker-1.6.0-pyhd8ed1ab_0 \n",
            "  pyasn1             conda-forge/noarch::pyasn1-0.6.1-pyhd8ed1ab_1 \n",
            "  pyasn1-modules     conda-forge/noarch::pyasn1-modules-0.4.1-pyhd8ed1ab_0 \n",
            "  python_abi         conda-forge/linux-64::python_abi-3.8-2_cp38 \n",
            "  pyu2f              conda-forge/noarch::pyu2f-0.1.5-pyhd8ed1ab_0 \n",
            "  rsa                conda-forge/noarch::rsa-4.9-pyhd8ed1ab_0 \n",
            "  yarl               conda-forge/linux-64::yarl-1.9.4-py38h01eb140_0 \n",
            "\n",
            "The following packages will be UPDATED:\n",
            "\n",
            "  libgcc-ng          pkgs/main::libgcc-ng-11.2.0-h1234567_1 --> conda-forge::libgcc-ng-14.2.0-h69a702a_2 \n",
            "  libgomp              pkgs/main::libgomp-11.2.0-h1234567_1 --> conda-forge::libgomp-14.2.0-h767d61c_2 \n",
            "  openssl              pkgs/main::openssl-3.0.15-h5eee18b_0 --> conda-forge::openssl-3.4.1-h7b32b05_0 \n",
            "\n",
            "The following packages will be SUPERSEDED by a higher-priority channel:\n",
            "\n",
            "  certifi            pkgs/main/linux-64::certifi-2024.8.30~ --> conda-forge/noarch::certifi-2024.8.30-pyhd8ed1ab_0 \n",
            "\n",
            "\n",
            "Preparing transaction: ...working... done\n",
            "Verifying transaction: ...working... done\n",
            "Executing transaction: ...working... done\n",
            "Installed kernelspec py38 in /root/.local/share/jupyter/kernels/py38\n"
          ]
        }
      ],
      "source": [
        "# !wget -O mini.sh https://repo.anaconda.com/miniconda/Miniconda3-py39_4.9.2-Linux-x86_64.sh\n",
        "# !chmod +x mini.sh\n",
        "# !bash ./mini.sh -b -f -p /usr/local\n",
        "# !conda install -q -y jupyter\n",
        "# !conda install -q -y google-colab -c conda-forge\n",
        "# !python -m ipykernel install --name \"py39\" --user\n",
        "\n",
        "!wget -O mini.sh https://repo.anaconda.com/miniconda/Miniconda3-py38_23.11.0-2-Linux-x86_64.sh\n",
        "!chmod +x mini.sh\n",
        "!bash ./mini.sh -b -f -p /usr/local\n",
        "!conda install -q -y jupyter\n",
        "!conda install -q -y google-colab -c conda-forge\n",
        "!python -m ipykernel install --name \"py38\" --user\n"
      ]
    },
    {
      "cell_type": "code",
      "execution_count": 4,
      "metadata": {
        "colab": {
          "base_uri": "https://localhost:8080/"
        },
        "id": "KelD-qgoKwSU",
        "outputId": "986c21e5-6418-4ca2-8062-43df6103a048"
      },
      "outputs": [
        {
          "output_type": "stream",
          "name": "stdout",
          "text": [
            "Python 3.8.18\n"
          ]
        }
      ],
      "source": [
        "!python --version"
      ]
    },
    {
      "cell_type": "code",
      "source": [
        "!python --version\n",
        "!which python\n",
        "!pip --version\n",
        "!which pip\n"
      ],
      "metadata": {
        "colab": {
          "base_uri": "https://localhost:8080/"
        },
        "id": "gyZ3sFkoRC8R",
        "outputId": "cb8a2210-54a0-450f-8107-74c65d6dffcd"
      },
      "execution_count": 6,
      "outputs": [
        {
          "output_type": "stream",
          "name": "stdout",
          "text": [
            "Python 3.8.18\n",
            "/usr/local/bin/python\n",
            "pip 23.3.1 from /usr/local/lib/python3.8/site-packages/pip (python 3.8)\n",
            "/usr/local/bin/pip\n"
          ]
        }
      ]
    },
    {
      "cell_type": "code",
      "execution_count": 42,
      "metadata": {
        "colab": {
          "base_uri": "https://localhost:8080/"
        },
        "id": "_I2xCWkfLNmQ",
        "outputId": "574665ec-8413-4ef7-dd40-7f5b4de5723b"
      },
      "outputs": [
        {
          "output_type": "stream",
          "name": "stdout",
          "text": [
            "Requirement already satisfied: autogluon==0.1.0 in /usr/local/lib/python3.8/site-packages (0.1.0)\n",
            "Requirement already satisfied: autogluon.core==0.1.0 in /usr/local/lib/python3.8/site-packages (from autogluon==0.1.0) (0.1.0)\n",
            "Requirement already satisfied: autogluon.features==0.1.0 in /usr/local/lib/python3.8/site-packages (from autogluon==0.1.0) (0.1.0)\n",
            "Requirement already satisfied: autogluon.tabular==0.1.0 in /usr/local/lib/python3.8/site-packages (from autogluon.tabular[all]==0.1.0->autogluon==0.1.0) (0.1.0)\n",
            "Requirement already satisfied: autogluon.mxnet==0.1.0 in /usr/local/lib/python3.8/site-packages (from autogluon==0.1.0) (0.1.0)\n",
            "Requirement already satisfied: autogluon.extra==0.1.0 in /usr/local/lib/python3.8/site-packages (from autogluon==0.1.0) (0.1.0)\n",
            "Requirement already satisfied: autogluon.text==0.1.0 in /usr/local/lib/python3.8/site-packages (from autogluon==0.1.0) (0.1.0)\n",
            "Requirement already satisfied: autogluon.vision==0.1.0 in /usr/local/lib/python3.8/site-packages (from autogluon==0.1.0) (0.1.0)\n",
            "Collecting numpy==1.19.5 (from autogluon.core==0.1.0->autogluon==0.1.0)\n",
            "  Using cached numpy-1.19.5-cp38-cp38-manylinux2010_x86_64.whl.metadata (2.0 kB)\n",
            "Collecting scipy==1.5.4 (from autogluon.core==0.1.0->autogluon==0.1.0)\n",
            "  Using cached scipy-1.5.4-cp38-cp38-manylinux1_x86_64.whl.metadata (2.0 kB)\n",
            "Requirement already satisfied: scikit-learn<0.25,>=0.22.0 in /usr/local/lib/python3.8/site-packages (from autogluon.core==0.1.0->autogluon==0.1.0) (0.24.2)\n",
            "Requirement already satisfied: pandas<2.0,>=1.0.0 in /usr/local/lib/python3.8/site-packages (from autogluon.core==0.1.0->autogluon==0.1.0) (1.4.2)\n",
            "Requirement already satisfied: tqdm>=4.38.0 in /usr/local/lib/python3.8/site-packages (from autogluon.core==0.1.0->autogluon==0.1.0) (4.65.0)\n",
            "Requirement already satisfied: graphviz<0.9.0,>=0.8.1 in /usr/local/lib/python3.8/site-packages (from autogluon.core==0.1.0->autogluon==0.1.0) (0.8.4)\n",
            "Requirement already satisfied: cython in /usr/local/lib/python3.8/site-packages (from autogluon.core==0.1.0->autogluon==0.1.0) (3.0.12)\n",
            "Collecting ConfigSpace==0.4.18 (from autogluon.core==0.1.0->autogluon==0.1.0)\n",
            "  Using cached ConfigSpace-0.4.18-cp38-cp38-linux_x86_64.whl\n",
            "Requirement already satisfied: tornado>=5.0.1 in /usr/local/lib/python3.8/site-packages (from autogluon.core==0.1.0->autogluon==0.1.0) (6.4.1)\n",
            "Requirement already satisfied: requests in /usr/local/lib/python3.8/site-packages (from autogluon.core==0.1.0->autogluon==0.1.0) (2.31.0)\n",
            "Requirement already satisfied: matplotlib in /usr/local/lib/python3.8/site-packages (from autogluon.core==0.1.0->autogluon==0.1.0) (3.6.3)\n",
            "Requirement already satisfied: paramiko>=2.4 in /usr/local/lib/python3.8/site-packages (from autogluon.core==0.1.0->autogluon==0.1.0) (3.5.1)\n",
            "Requirement already satisfied: dask>=2.6.0 in /usr/local/lib/python3.8/site-packages (from autogluon.core==0.1.0->autogluon==0.1.0) (2023.5.0)\n",
            "Requirement already satisfied: distributed>=2.6.0 in /usr/local/lib/python3.8/site-packages (from autogluon.core==0.1.0->autogluon==0.1.0) (2023.5.0)\n",
            "Requirement already satisfied: boto3 in /usr/local/lib/python3.8/site-packages (from autogluon.core==0.1.0->autogluon==0.1.0) (1.37.2)\n",
            "Requirement already satisfied: autograd>=1.3 in /usr/local/lib/python3.8/site-packages (from autogluon.core==0.1.0->autogluon==0.1.0) (1.7.0)\n",
            "Requirement already satisfied: dill==0.3.3 in /usr/local/lib/python3.8/site-packages (from autogluon.core==0.1.0->autogluon==0.1.0) (0.3.3)\n",
            "Requirement already satisfied: gluoncv<0.11.0,>=0.9.4 in /usr/local/lib/python3.8/site-packages (from autogluon.extra==0.1.0->autogluon==0.1.0) (0.10.5.post0)\n",
            "Requirement already satisfied: bokeh in /usr/local/lib/python3.8/site-packages (from autogluon.extra==0.1.0->autogluon==0.1.0) (3.1.1)\n",
            "Requirement already satisfied: pytest in /usr/local/lib/python3.8/site-packages (from autogluon.extra==0.1.0->autogluon==0.1.0) (8.3.4)\n",
            "Requirement already satisfied: openml in /usr/local/lib/python3.8/site-packages (from autogluon.extra==0.1.0->autogluon==0.1.0) (0.15.1)\n",
            "Requirement already satisfied: Pillow<=8.1 in /usr/local/lib/python3.8/site-packages (from autogluon.mxnet==0.1.0->autogluon==0.1.0) (8.1.0)\n",
            "Requirement already satisfied: psutil<=5.7.0,>=5.0.0 in /usr/local/lib/python3.8/site-packages (from autogluon.tabular==0.1.0->autogluon.tabular[all]==0.1.0->autogluon==0.1.0) (5.7.0)\n",
            "Requirement already satisfied: networkx<3.0,>=2.3 in /usr/local/lib/python3.8/site-packages (from autogluon.tabular==0.1.0->autogluon.tabular[all]==0.1.0->autogluon==0.1.0) (2.8.8)\n",
            "Requirement already satisfied: torch<2.0,>=1.0 in /usr/local/lib/python3.8/site-packages (from autogluon.tabular[all]==0.1.0->autogluon==0.1.0) (1.9.1+cu111)\n",
            "Requirement already satisfied: catboost<0.25,>=0.23.0 in /usr/local/lib/python3.8/site-packages (from autogluon.tabular[all]==0.1.0->autogluon==0.1.0) (0.24.4)\n",
            "Requirement already satisfied: fastai<2.0,>=1.0 in /usr/local/lib/python3.8/site-packages (from autogluon.tabular[all]==0.1.0->autogluon==0.1.0) (1.0.61)\n",
            "Requirement already satisfied: xgboost<1.4,>=1.3.2 in /usr/local/lib/python3.8/site-packages (from autogluon.tabular[all]==0.1.0->autogluon==0.1.0) (1.3.3)\n",
            "Requirement already satisfied: lightgbm<4.0,>=3.0 in /usr/local/lib/python3.8/site-packages (from autogluon.tabular[all]==0.1.0->autogluon==0.1.0) (3.3.5)\n",
            "Requirement already satisfied: pyarrow>=3.0.0 in /usr/local/lib/python3.8/site-packages (from autogluon.text==0.1.0->autogluon==0.1.0) (17.0.0)\n",
            "Requirement already satisfied: autogluon-contrib-nlp==0.0.1b20210201 in /usr/local/lib/python3.8/site-packages (from autogluon.text==0.1.0->autogluon==0.1.0) (0.0.1b20210201)\n",
            "Requirement already satisfied: d8<1.0,>=0.0.2 in /usr/local/lib/python3.8/site-packages (from autogluon.vision==0.1.0->autogluon==0.1.0) (0.0.2.post0)\n",
            "Requirement already satisfied: sacremoses>=0.0.38 in /usr/local/lib/python3.8/site-packages (from autogluon-contrib-nlp==0.0.1b20210201->autogluon.text==0.1.0->autogluon==0.1.0) (0.1.1)\n",
            "Requirement already satisfied: yacs>=0.1.6 in /usr/local/lib/python3.8/site-packages (from autogluon-contrib-nlp==0.0.1b20210201->autogluon.text==0.1.0->autogluon==0.1.0) (0.1.8)\n",
            "Requirement already satisfied: sacrebleu in /usr/local/lib/python3.8/site-packages (from autogluon-contrib-nlp==0.0.1b20210201->autogluon.text==0.1.0->autogluon==0.1.0) (2.5.1)\n",
            "Requirement already satisfied: flake8 in /usr/local/lib/python3.8/site-packages (from autogluon-contrib-nlp==0.0.1b20210201->autogluon.text==0.1.0->autogluon==0.1.0) (7.1.2)\n",
            "Requirement already satisfied: regex in /usr/local/lib/python3.8/site-packages (from autogluon-contrib-nlp==0.0.1b20210201->autogluon.text==0.1.0->autogluon==0.1.0) (2024.11.6)\n",
            "Requirement already satisfied: contextvars in /usr/local/lib/python3.8/site-packages (from autogluon-contrib-nlp==0.0.1b20210201->autogluon.text==0.1.0->autogluon==0.1.0) (2.4)\n",
            "Requirement already satisfied: tokenizers==0.9.4 in /usr/local/lib/python3.8/site-packages (from autogluon-contrib-nlp==0.0.1b20210201->autogluon.text==0.1.0->autogluon==0.1.0) (0.9.4)\n",
            "Requirement already satisfied: protobuf in /usr/local/lib/python3.8/site-packages (from autogluon-contrib-nlp==0.0.1b20210201->autogluon.text==0.1.0->autogluon==0.1.0) (5.29.3)\n",
            "Requirement already satisfied: sentencepiece==0.1.95 in /usr/local/lib/python3.8/site-packages (from autogluon-contrib-nlp==0.0.1b20210201->autogluon.text==0.1.0->autogluon==0.1.0) (0.1.95)\n",
            "Requirement already satisfied: pyparsing in /usr/local/lib/python3.8/site-packages (from ConfigSpace==0.4.18->autogluon.core==0.1.0->autogluon==0.1.0) (3.1.4)\n",
            "Requirement already satisfied: plotly in /usr/local/lib/python3.8/site-packages (from catboost<0.25,>=0.23.0->autogluon.tabular[all]==0.1.0->autogluon==0.1.0) (6.0.0)\n",
            "Requirement already satisfied: six in /usr/local/lib/python3.8/site-packages (from catboost<0.25,>=0.23.0->autogluon.tabular[all]==0.1.0->autogluon==0.1.0) (1.16.0)\n",
            "Requirement already satisfied: kaggle in /usr/local/lib/python3.8/site-packages (from d8<1.0,>=0.0.2->autogluon.vision==0.1.0->autogluon==0.1.0) (1.6.17)\n",
            "Requirement already satisfied: xxhash in /usr/local/lib/python3.8/site-packages (from d8<1.0,>=0.0.2->autogluon.vision==0.1.0->autogluon==0.1.0) (3.5.0)\n",
            "Requirement already satisfied: click>=8.0 in /usr/local/lib/python3.8/site-packages (from dask>=2.6.0->autogluon.core==0.1.0->autogluon==0.1.0) (8.1.8)\n",
            "Requirement already satisfied: cloudpickle>=1.5.0 in /usr/local/lib/python3.8/site-packages (from dask>=2.6.0->autogluon.core==0.1.0->autogluon==0.1.0) (3.1.1)\n",
            "Requirement already satisfied: fsspec>=2021.09.0 in /usr/local/lib/python3.8/site-packages (from dask>=2.6.0->autogluon.core==0.1.0->autogluon==0.1.0) (2025.2.0)\n",
            "Requirement already satisfied: packaging>=20.0 in /usr/local/lib/python3.8/site-packages (from dask>=2.6.0->autogluon.core==0.1.0->autogluon==0.1.0) (23.1)\n",
            "Requirement already satisfied: partd>=1.2.0 in /usr/local/lib/python3.8/site-packages (from dask>=2.6.0->autogluon.core==0.1.0->autogluon==0.1.0) (1.4.1)\n",
            "Requirement already satisfied: pyyaml>=5.3.1 in /usr/local/lib/python3.8/site-packages (from dask>=2.6.0->autogluon.core==0.1.0->autogluon==0.1.0) (6.0.2)\n",
            "Requirement already satisfied: toolz>=0.10.0 in /usr/local/lib/python3.8/site-packages (from dask>=2.6.0->autogluon.core==0.1.0->autogluon==0.1.0) (1.0.0)\n",
            "Requirement already satisfied: importlib-metadata>=4.13.0 in /usr/local/lib/python3.8/site-packages (from dask>=2.6.0->autogluon.core==0.1.0->autogluon==0.1.0) (7.0.1)\n",
            "Requirement already satisfied: jinja2>=2.10.3 in /usr/local/lib/python3.8/site-packages (from distributed>=2.6.0->autogluon.core==0.1.0->autogluon==0.1.0) (3.1.4)\n",
            "Requirement already satisfied: locket>=1.0.0 in /usr/local/lib/python3.8/site-packages (from distributed>=2.6.0->autogluon.core==0.1.0->autogluon==0.1.0) (1.0.0)\n",
            "Requirement already satisfied: msgpack>=1.0.0 in /usr/local/lib/python3.8/site-packages (from distributed>=2.6.0->autogluon.core==0.1.0->autogluon==0.1.0) (1.1.0)\n",
            "Requirement already satisfied: sortedcontainers>=2.0.5 in /usr/local/lib/python3.8/site-packages (from distributed>=2.6.0->autogluon.core==0.1.0->autogluon==0.1.0) (2.4.0)\n",
            "Requirement already satisfied: tblib>=1.6.0 in /usr/local/lib/python3.8/site-packages (from distributed>=2.6.0->autogluon.core==0.1.0->autogluon==0.1.0) (3.0.0)\n",
            "Requirement already satisfied: urllib3>=1.24.3 in /usr/local/lib/python3.8/site-packages (from distributed>=2.6.0->autogluon.core==0.1.0->autogluon==0.1.0) (1.26.18)\n",
            "Requirement already satisfied: zict>=2.2.0 in /usr/local/lib/python3.8/site-packages (from distributed>=2.6.0->autogluon.core==0.1.0->autogluon==0.1.0) (3.0.0)\n",
            "Requirement already satisfied: bottleneck in /usr/local/lib/python3.8/site-packages (from fastai<2.0,>=1.0->autogluon.tabular[all]==0.1.0->autogluon==0.1.0) (1.4.0)\n",
            "Requirement already satisfied: fastprogress>=0.2.1 in /usr/local/lib/python3.8/site-packages (from fastai<2.0,>=1.0->autogluon.tabular[all]==0.1.0->autogluon==0.1.0) (1.0.3)\n",
            "Requirement already satisfied: beautifulsoup4 in /usr/local/lib/python3.8/site-packages (from fastai<2.0,>=1.0->autogluon.tabular[all]==0.1.0->autogluon==0.1.0) (4.12.3)\n",
            "Requirement already satisfied: numexpr in /usr/local/lib/python3.8/site-packages (from fastai<2.0,>=1.0->autogluon.tabular[all]==0.1.0->autogluon==0.1.0) (2.8.6)\n",
            "Requirement already satisfied: nvidia-ml-py3 in /usr/local/lib/python3.8/site-packages (from fastai<2.0,>=1.0->autogluon.tabular[all]==0.1.0->autogluon==0.1.0) (7.352.0)\n",
            "Requirement already satisfied: torchvision in /usr/local/lib/python3.8/site-packages (from fastai<2.0,>=1.0->autogluon.tabular[all]==0.1.0->autogluon==0.1.0) (0.10.1+cu111)\n",
            "Requirement already satisfied: portalocker in /usr/local/lib/python3.8/site-packages (from gluoncv<0.11.0,>=0.9.4->autogluon.extra==0.1.0->autogluon==0.1.0) (3.0.0)\n",
            "Requirement already satisfied: autocfg in /usr/local/lib/python3.8/site-packages (from gluoncv<0.11.0,>=0.9.4->autogluon.extra==0.1.0->autogluon==0.1.0) (0.0.8)\n",
            "Requirement already satisfied: opencv-python in /usr/local/lib/python3.8/site-packages (from gluoncv<0.11.0,>=0.9.4->autogluon.extra==0.1.0->autogluon==0.1.0) (4.11.0.86)\n",
            "Requirement already satisfied: wheel in /usr/local/lib/python3.8/site-packages (from lightgbm<4.0,>=3.0->autogluon.tabular[all]==0.1.0->autogluon==0.1.0) (0.41.2)\n",
            "Requirement already satisfied: python-dateutil>=2.8.1 in /usr/local/lib/python3.8/site-packages (from pandas<2.0,>=1.0.0->autogluon.core==0.1.0->autogluon==0.1.0) (2.9.0.post0)\n",
            "Requirement already satisfied: pytz>=2020.1 in /usr/local/lib/python3.8/site-packages (from pandas<2.0,>=1.0.0->autogluon.core==0.1.0->autogluon==0.1.0) (2024.1)\n",
            "Requirement already satisfied: bcrypt>=3.2 in /usr/local/lib/python3.8/site-packages (from paramiko>=2.4->autogluon.core==0.1.0->autogluon==0.1.0) (4.2.1)\n",
            "Requirement already satisfied: cryptography>=3.3 in /usr/local/lib/python3.8/site-packages (from paramiko>=2.4->autogluon.core==0.1.0->autogluon==0.1.0) (41.0.7)\n",
            "Requirement already satisfied: pynacl>=1.5 in /usr/local/lib/python3.8/site-packages (from paramiko>=2.4->autogluon.core==0.1.0->autogluon==0.1.0) (1.5.0)\n",
            "Requirement already satisfied: joblib>=0.11 in /usr/local/lib/python3.8/site-packages (from scikit-learn<0.25,>=0.22.0->autogluon.core==0.1.0->autogluon==0.1.0) (1.4.2)\n",
            "Requirement already satisfied: threadpoolctl>=2.0.0 in /usr/local/lib/python3.8/site-packages (from scikit-learn<0.25,>=0.22.0->autogluon.core==0.1.0->autogluon==0.1.0) (3.5.0)\n",
            "Requirement already satisfied: typing-extensions in /usr/local/lib/python3.8/site-packages (from torch<2.0,>=1.0->autogluon.tabular[all]==0.1.0->autogluon==0.1.0) (4.12.2)\n",
            "Requirement already satisfied: contourpy>=1 in /usr/local/lib/python3.8/site-packages (from bokeh->autogluon.extra==0.1.0->autogluon==0.1.0) (1.1.1)\n",
            "Requirement already satisfied: xyzservices>=2021.09.1 in /usr/local/lib/python3.8/site-packages (from bokeh->autogluon.extra==0.1.0->autogluon==0.1.0) (2025.1.0)\n",
            "Requirement already satisfied: botocore<1.38.0,>=1.37.2 in /usr/local/lib/python3.8/site-packages (from boto3->autogluon.core==0.1.0->autogluon==0.1.0) (1.37.2)\n",
            "Requirement already satisfied: jmespath<2.0.0,>=0.7.1 in /usr/local/lib/python3.8/site-packages (from boto3->autogluon.core==0.1.0->autogluon==0.1.0) (1.0.1)\n",
            "Requirement already satisfied: s3transfer<0.12.0,>=0.11.0 in /usr/local/lib/python3.8/site-packages (from boto3->autogluon.core==0.1.0->autogluon==0.1.0) (0.11.3)\n",
            "Requirement already satisfied: cycler>=0.10 in /usr/local/lib/python3.8/site-packages (from matplotlib->autogluon.core==0.1.0->autogluon==0.1.0) (0.12.1)\n",
            "Requirement already satisfied: fonttools>=4.22.0 in /usr/local/lib/python3.8/site-packages (from matplotlib->autogluon.core==0.1.0->autogluon==0.1.0) (4.56.0)\n",
            "Requirement already satisfied: kiwisolver>=1.0.1 in /usr/local/lib/python3.8/site-packages (from matplotlib->autogluon.core==0.1.0->autogluon==0.1.0) (1.4.7)\n",
            "Requirement already satisfied: liac-arff>=2.4.0 in /usr/local/lib/python3.8/site-packages (from openml->autogluon.extra==0.1.0->autogluon==0.1.0) (2.5.0)\n",
            "Requirement already satisfied: xmltodict in /usr/local/lib/python3.8/site-packages (from openml->autogluon.extra==0.1.0->autogluon==0.1.0) (0.14.2)\n",
            "Requirement already satisfied: minio in /usr/local/lib/python3.8/site-packages (from openml->autogluon.extra==0.1.0->autogluon==0.1.0) (7.2.10)\n",
            "Requirement already satisfied: exceptiongroup>=1.0.0rc8 in /usr/local/lib/python3.8/site-packages (from pytest->autogluon.extra==0.1.0->autogluon==0.1.0) (1.2.0)\n",
            "Requirement already satisfied: iniconfig in /usr/local/lib/python3.8/site-packages (from pytest->autogluon.extra==0.1.0->autogluon==0.1.0) (2.0.0)\n",
            "Requirement already satisfied: pluggy<2,>=1.5 in /usr/local/lib/python3.8/site-packages (from pytest->autogluon.extra==0.1.0->autogluon==0.1.0) (1.5.0)\n",
            "Requirement already satisfied: tomli>=1 in /usr/local/lib/python3.8/site-packages (from pytest->autogluon.extra==0.1.0->autogluon==0.1.0) (2.0.1)\n",
            "Requirement already satisfied: charset-normalizer<4,>=2 in /usr/local/lib/python3.8/site-packages (from requests->autogluon.core==0.1.0->autogluon==0.1.0) (2.0.4)\n",
            "Requirement already satisfied: idna<4,>=2.5 in /usr/local/lib/python3.8/site-packages (from requests->autogluon.core==0.1.0->autogluon==0.1.0) (3.4)\n",
            "Requirement already satisfied: certifi>=2017.4.17 in /usr/local/lib/python3.8/site-packages (from requests->autogluon.core==0.1.0->autogluon==0.1.0) (2024.8.30)\n",
            "Requirement already satisfied: cffi>=1.12 in /usr/local/lib/python3.8/site-packages (from cryptography>=3.3->paramiko>=2.4->autogluon.core==0.1.0->autogluon==0.1.0) (1.16.0)\n",
            "Requirement already satisfied: zipp>=0.5 in /usr/local/lib/python3.8/site-packages (from importlib-metadata>=4.13.0->dask>=2.6.0->autogluon.core==0.1.0->autogluon==0.1.0) (3.20.2)\n",
            "Requirement already satisfied: MarkupSafe>=2.0 in /usr/local/lib/python3.8/site-packages (from jinja2>=2.10.3->distributed>=2.6.0->autogluon.core==0.1.0->autogluon==0.1.0) (2.1.3)\n",
            "Requirement already satisfied: soupsieve>1.2 in /usr/local/lib/python3.8/site-packages (from beautifulsoup4->fastai<2.0,>=1.0->autogluon.tabular[all]==0.1.0->autogluon==0.1.0) (2.5)\n",
            "Requirement already satisfied: immutables>=0.9 in /usr/local/lib/python3.8/site-packages (from contextvars->autogluon-contrib-nlp==0.0.1b20210201->autogluon.text==0.1.0->autogluon==0.1.0) (0.21)\n",
            "Requirement already satisfied: mccabe<0.8.0,>=0.7.0 in /usr/local/lib/python3.8/site-packages (from flake8->autogluon-contrib-nlp==0.0.1b20210201->autogluon.text==0.1.0->autogluon==0.1.0) (0.7.0)\n",
            "Requirement already satisfied: pycodestyle<2.13.0,>=2.12.0 in /usr/local/lib/python3.8/site-packages (from flake8->autogluon-contrib-nlp==0.0.1b20210201->autogluon.text==0.1.0->autogluon==0.1.0) (2.12.1)\n",
            "Requirement already satisfied: pyflakes<3.3.0,>=3.2.0 in /usr/local/lib/python3.8/site-packages (from flake8->autogluon-contrib-nlp==0.0.1b20210201->autogluon.text==0.1.0->autogluon==0.1.0) (3.2.0)\n",
            "Requirement already satisfied: python-slugify in /usr/local/lib/python3.8/site-packages (from kaggle->d8<1.0,>=0.0.2->autogluon.vision==0.1.0->autogluon==0.1.0) (8.0.4)\n",
            "Requirement already satisfied: bleach in /usr/local/lib/python3.8/site-packages (from kaggle->d8<1.0,>=0.0.2->autogluon.vision==0.1.0->autogluon==0.1.0) (4.1.0)\n",
            "Requirement already satisfied: argon2-cffi in /usr/local/lib/python3.8/site-packages (from minio->openml->autogluon.extra==0.1.0->autogluon==0.1.0) (21.3.0)\n",
            "Requirement already satisfied: pycryptodome in /usr/local/lib/python3.8/site-packages (from minio->openml->autogluon.extra==0.1.0->autogluon==0.1.0) (3.21.0)\n",
            "Requirement already satisfied: narwhals>=1.15.1 in /usr/local/lib/python3.8/site-packages (from plotly->catboost<0.25,>=0.23.0->autogluon.tabular[all]==0.1.0->autogluon==0.1.0) (1.28.0)\n",
            "Requirement already satisfied: tabulate>=0.8.9 in /usr/local/lib/python3.8/site-packages (from sacrebleu->autogluon-contrib-nlp==0.0.1b20210201->autogluon.text==0.1.0->autogluon==0.1.0) (0.9.0)\n",
            "Requirement already satisfied: colorama in /usr/local/lib/python3.8/site-packages (from sacrebleu->autogluon-contrib-nlp==0.0.1b20210201->autogluon.text==0.1.0->autogluon==0.1.0) (0.4.6)\n",
            "Requirement already satisfied: lxml in /usr/local/lib/python3.8/site-packages (from sacrebleu->autogluon-contrib-nlp==0.0.1b20210201->autogluon.text==0.1.0->autogluon==0.1.0) (5.3.1)\n",
            "Requirement already satisfied: pycparser in /usr/local/lib/python3.8/site-packages (from cffi>=1.12->cryptography>=3.3->paramiko>=2.4->autogluon.core==0.1.0->autogluon==0.1.0) (2.21)\n",
            "Requirement already satisfied: argon2-cffi-bindings in /usr/local/lib/python3.8/site-packages (from argon2-cffi->minio->openml->autogluon.extra==0.1.0->autogluon==0.1.0) (21.2.0)\n",
            "Requirement already satisfied: webencodings in /usr/local/lib/python3.8/site-packages (from bleach->kaggle->d8<1.0,>=0.0.2->autogluon.vision==0.1.0->autogluon==0.1.0) (0.5.1)\n",
            "Requirement already satisfied: text-unidecode>=1.3 in /usr/local/lib/python3.8/site-packages (from python-slugify->kaggle->d8<1.0,>=0.0.2->autogluon.vision==0.1.0->autogluon==0.1.0) (1.3)\n",
            "Using cached numpy-1.19.5-cp38-cp38-manylinux2010_x86_64.whl (14.9 MB)\n",
            "Using cached scipy-1.5.4-cp38-cp38-manylinux1_x86_64.whl (25.8 MB)\n",
            "Installing collected packages: numpy, scipy, ConfigSpace\n",
            "  Attempting uninstall: numpy\n",
            "    Found existing installation: numpy 1.24.4\n",
            "    Uninstalling numpy-1.24.4:\n",
            "      Successfully uninstalled numpy-1.24.4\n",
            "  Attempting uninstall: scipy\n",
            "    Found existing installation: scipy 1.10.1\n",
            "    Uninstalling scipy-1.10.1:\n",
            "      Successfully uninstalled scipy-1.10.1\n",
            "  Attempting uninstall: ConfigSpace\n",
            "    Found existing installation: ConfigSpace 1.2.1\n",
            "    Uninstalling ConfigSpace-1.2.1:\n",
            "      Successfully uninstalled ConfigSpace-1.2.1\n",
            "Successfully installed ConfigSpace-0.4.18 numpy-1.19.5 scipy-1.5.4\n"
          ]
        }
      ],
      "source": [
        "!pip install autogluon==0.1.0"
      ]
    },
    {
      "cell_type": "code",
      "source": [
        "!python -c \"import sys; print(sys.path)\"\n"
      ],
      "metadata": {
        "colab": {
          "base_uri": "https://localhost:8080/"
        },
        "id": "Tp5UQYCIS5rh",
        "outputId": "733d0a6b-a4c6-4b00-e0fc-cc907041d49a"
      },
      "execution_count": 43,
      "outputs": [
        {
          "output_type": "stream",
          "name": "stdout",
          "text": [
            "['', '/env/python', '/usr/local/lib/python38.zip', '/usr/local/lib/python3.8', '/usr/local/lib/python3.8/lib-dynload', '/usr/local/lib/python3.8/site-packages']\n"
          ]
        }
      ]
    },
    {
      "cell_type": "code",
      "source": [
        "!python -c \"import os; print(os.listdir('/usr/local/lib/python3.8/site-packages'))\"\n"
      ],
      "metadata": {
        "colab": {
          "base_uri": "https://localhost:8080/"
        },
        "id": "vGjjqNQoS9Jg",
        "outputId": "4cbc02c5-3243-4d52-c4b6-f30eda1752cb"
      },
      "execution_count": 44,
      "outputs": [
        {
          "output_type": "stream",
          "name": "stdout",
          "text": [
            "['nvidia_nvtx_cu11-11.8.86.dist-info', 'six-1.16.0.dist-info', 'slugify', 'Crypto', 'd8', 'decorator.py', 'portpicker.py', 'websocket', 'jsonschema', 'frozenlist', 'ply', 'matplotlib_inline-0.1.6.dist-info', 'triton-3.0.0.dist-info', 'rsa', 'lightgbm-3.3.5.dist-info', 'async_lru', 'h11', 'bokeh-3.1.1.dist-info', 'cachetools', 'exceptiongroup', 'autograd-1.7.0.dist-info', 'mistune', 'autogluon.mxnet-0.1.0.dist-info', 'menuinst-2.0.1.dist-info', 'frozenlist-1.4.1.dist-info', 'scripts', 'defusedxml-0.7.1.dist-info', 'pyasn1_modules', 'notebook_shim', 'ptyprocess-0.7.0.dist-info', 'distutils-precedence.pth', 'wheel-0.41.2.dist-info', 'zict', 'multidict', 'd8-0.0.2.post0.dist-info', 'yacs-0.1.8.dist-info', 'boto3', 'parso', 'cycler', 'executing-0.8.3.dist-info', '_brotli.cpython-38-x86_64-linux-gnu.so', 'zstandard-0.19.0.dist-info', 'pyarrow', 'locket', 'autogluon-0.1.0-py3.7-nspkg.pth', 'sacremoses', 'argon2_cffi-21.3.0.dist-info', 'pyasn1-0.6.1.dist-info', 'jsonschema-4.23.0.dist-info', 'rpds', 'rpds_py-0.10.6.dist-info', 'Pillow.libs', 'archspec', 'isympy.py', 'pycparser', 'matplotlib-3.6.3.dist-info', 'bcrypt', 'beautifulsoup4-4.12.3.dist-info', 'pygments', 'jupyter_client-8.6.0.dist-info', 'importlib_metadata-7.0.1.dist-info', 'jsonpatch-1.32.dist-info', 'requests', 'ipykernel-6.29.5.dist-info', 'pyasn1_modules-0.4.1.dist-info', 'ptyprocess', 'pickleshare-0.7.5.dist-info', 'rfc3986_validator.py', 'sacremoses-0.1.1.dist-info', 'jupyter-1.0.0.dist-info', 'tinycss2', 'fastai', 'narwhals-1.28.0.dist-info', 'pandocfilters.py', 'archspec-0.2.3.dist-info', '_distutils_hack', 'referencing-0.30.2.dist-info', 'lxml-5.3.1.dist-info', 'typing_extensions.py', '_argon2_cffi_bindings', 'pandas', 'certifi', 'typing_extensions-4.12.2.dist-info', 'pandas-1.4.2-py3.8.egg-info', 'narwhals', 'httpcore', 'filelock', 'xmltodict.py', 'h11-0.14.0.dist-info', 'jupyterlab_pygments', 'dask-2023.5.0.dist-info', 'ruamel.yaml-0.17.21-py3.8-nspkg.pth', 'nbformat-5.10.4.dist-info', 'lxml', 'qtconsole-5.6.0.dist-info', 'jedi', 'nvidia_cublas_cu11-11.11.3.6.dist-info', 'ipywidgets', 'python_dateutil-2.9.0.post0.dist-info', 'idna-3.4.dist-info', 'aiohappyeyeballs', 'pyparsing-3.1.4.dist-info', 'distributed', 'jupyterlab', 'autogluon.vision-0.1.0-py3.7-nspkg.pth', 'qtpy', 'torchvision.libs', 'async_lru-2.0.4.dist-info', 'Babel-2.11.0.dist-info', 'mistune-2.0.4.dist-info', 'ipykernel_launcher.py', 'pkgutil_resolve_name.py', 'more_itertools-10.5.0.dist-info', 'threadpoolctl-3.5.0.dist-info', 'ConfigSpace-0.4.18.dist-info', 'dateutil', 'traitlets', 'pythonjsonlogger', 'cloudpickle', 'xmltodict-0.14.2.dist-info', 'ConfigSpace', 'colorama-0.4.6.dist-info', 'psutil-5.7.0.dist-info', 'torchaudio-0.9.1.dist-info', 'nbclient', 'xxhash', 'sacrebleu', 'autocfg', 'autogluon.features-0.1.0.dist-info', 'Cython-3.0.12.dist-info', 'openml-0.15.1.dist-info', 'asttokens', 'pexpect', 'scipy-1.5.4.dist-info', 'Bottleneck-1.4.0.dist-info', 'xgboost-1.3.3.dist-info', 'graphviz-0.8.4.dist-info', 'torch-1.9.1+cu111.dist-info', 'contextvars', 'platformdirs-3.10.0.dist-info', 'autocfg-0.0.8.dist-info', 'immutables', 'xyzservices-2025.1.0.dist-info', 'zict-3.0.0.dist-info', 'jupyter_events', 'sklearn', 'nbconvert', 'conda_libmamba_solver', 'MarkupSafe-2.1.3.dist-info', 'opencv_python.libs', 'ipywidgets-8.1.2.dist-info', 'cffi', 'flake8', 'cmake_modules', 'aiohttp', '_yaml', 'cachetools-5.5.0.dist-info', '_plotly_future_', 'tabulate', 'pytest-8.3.4.dist-info', 'ruamel.yaml.clib-0.2.6.dist-info', 'arff.py', 'conda-24.9.2.dist-info', 'aiosignal-1.3.1.dist-info', 'dill', 'tomli', 'pycodestyle.py', 'referencing', 'socks.py', 'contextvars-2.4.dist-info', 'nbclient-0.8.0.dist-info', 'backcall', 'Brotli-1.0.9.dist-info', 'defusedxml', 'notebook_shim-0.2.3.dist-info', 'charset_normalizer-2.0.4.dist-info', 'pytz-2024.1.dist-info', 'mpmath-1.3.0.dist-info', 'httpx-0.27.0.dist-info', 'botocore-1.37.2.dist-info', 'terminado-0.17.1.dist-info', 'rfc3339_validator.py', 'tinycss2-1.2.1.dist-info', 'wcwidth', 'tlz', 'conda_package_handling', 'torchvision', 'psutil', 'pytest', 'conda_env', 'brotli.py', 'Cython', 'conda_package_handling-2.2.0.dist-info', 'tabulate-0.9.0.dist-info', 'regex', 'cython.py', 'py.py', 'sympy-1.13.1.dist-info', 'requests-2.31.0.dist-info', 'PySocks-1.7.1.dist-info', 'more_itertools', 'tqdm', 'libmambapy', 'urllib3-1.26.18.dist-info', 'README.txt', 'fastai-1.0.61.dist-info', 'traitlets-5.14.3.dist-info', 'dask', 'webencodings', 'pandocfilters-1.5.0.dist-info', 'PIL', 'jsonschema_specifications', 'sympy', 'jedi-0.19.1.dist-info', 'soupsieve-2.5.dist-info', 'importlib_resources-6.4.0.dist-info', 'aiohappyeyeballs-2.4.3.dist-info', 'PyQt5-5.15.10.dist-info', 'sentencepiece-0.1.95.dist-info', 'wheel', 'pluggy-1.5.0.dist-info', 'rfc3986_validator-0.1.1.dist-info', 'dill-0.3.3.dist-info', 'sipbuild', 'autogluon.extra-0.1.0-py3.7-nspkg.pth', 'pkg_resources', 'locket-1.0.0.dist-info', 'conda_content_trust-0.2.0.dist-info', 'cv2', 'autogluon_contrib_nlp-0.0.1b20210201.dist-info', 'nvidia_cuda_cupti_cu11-11.8.87.dist-info', 'catboost-0.24.4.dist-info', 'bokeh', 'portalocker', 'click', 'numpy-1.19.5.dist-info', 'colorama', 'jinja2-3.1.4.dist-info', 'pycryptodome-3.21.0.dist-info', 'stack_data', 'prompt_toolkit', 'pyflakes-3.2.0.dist-info', '_plotly_utils', 'pyu2f', 'packaging', 'networkx-2.8.8.dist-info', 'nvidia_curand_cu11-10.3.0.86.dist-info', 'boltons', 'sentencepiece', 'bs4', 'attr', 'iniconfig', 'networkx', '_cffi_backend.cpython-38-x86_64-linux-gnu.so', 'jupyter_lsp-2.2.0.dist-info', 'pycosat-0.6.6.dist-info', 'importlib_metadata', 'jmespath', 'comm', 'pyzmq-25.1.2.dist-info', 'text_unidecode', 'jupyter_console-6.6.3.dist-info', 'tblib-3.0.0.dist-info', 'jupyter_server_terminals', 'webencodings-0.5.1-py3.8.egg-info', 'google_auth-2.35.0.dist-info', 'nacl', 'attrs-24.2.0.dist-info', 'google_colab-1.0.0.dist-info', 'qtconsole', 'prometheus_client', 'jupyterlab_server-2.27.3.dist-info', 'kiwisolver-1.4.7.dist-info', 'rfc3339_validator-0.1.4.dist-info', 's3transfer', 'autogluon_contrib_nlp', 'ruamel', 'attrs', 'PyQt5', 'numexpr-2.8.6.dist-info', 'yacs', 'nvidia_cusparse_cu11-11.7.5.86.dist-info', 'send2trash', 'pluggy', 'tornado-6.4.1.dist-info', 'test_pycosat.py', 'conda_content_trust', 'pyu2f-0.1.5.dist-info', 'jupyter_core', 'pyximport', 'bottleneck', 'nvidia_cuda_nvrtc_cu11-11.8.89.dist-info', 'nvidia_cusolver_cu11-11.4.1.48.dist-info', 'libmambapy-1.5.3.dist-info', 'matplotlib_inline', 'jupyter_server_terminals-0.4.4.dist-info', '_ruamel_yaml.cpython-38-x86_64-linux-gnu.so', 'conda_package_streaming-0.9.0.dist-info', 'partd-1.4.1.dist-info', 'nvidia_nccl_cu11-2.20.5.dist-info', 'PyQt5_sip-12.13.0.dist-info', 'pip-23.3.1-py3.8.egg-info', 'autogluon', 'idna', 'numpy.libs', 'mpmath', 'sniffio-1.3.0.dist-info', 'jsonpatch.py', 'nest_asyncio-1.6.0.dist-info', 'mccabe-0.7.0.dist-info', 'charset_normalizer', 'bleach', 'async_timeout-4.0.3.dist-info', 'autogluon.tabular-0.1.0-py3.7-nspkg.pth', 'graphviz', 'liac_arff-2.5.0.dist-info', 'toolz', 'cryptography', 'pyarrow-17.0.0.dist-info', 'ipython-8.12.2.dist-info', 'scipy.libs', 'autogluon.text-0.1.0.dist-info', 'zipp', 'multidict-6.0.5.dist-info', 'jupyterlab_widgets-3.0.10.dist-info', 'kaggle', 'fsspec', 'lightgbm', 'yarl', 'nvidia_smi.py', 'distributed-2023.5.0.dist-info', 'Send2Trash-1.8.2.dist-info', 'frozendict', 'zstandard', 'wcwidth-0.2.5.dist-info', 'autogluon.features-0.1.0-py3.7-nspkg.pth', 'QtPy-2.4.1.dist-info', 'filelock-3.13.1.dist-info', 'boto3-1.37.2.dist-info', 'nvidia_ml_py3-7.352.0.dist-info', 'autogluon.core-0.1.0.dist-info', 'conda', 'flake8-7.1.2.dist-info', 'pure_eval-0.2.2.dist-info', 'anyio-4.2.0.dist-info', 'Pillow-8.1.0.dist-info', 'benchmarks', 'contourpy', 'plotly', 'pycodestyle-2.12.1.dist-info', 'prompt_toolkit-3.0.43.dist-info', 'click-8.1.8.dist-info', 'gluoncv', 'xgboost', 'jupyter_core-5.7.2.dist-info', 'minio-7.2.10.dist-info', 'sockshandler.py', 'fastjsonschema-2.16.2.dist-info', 'xgboost.libs', 'cryptography-41.0.7.dist-info', 'bcrypt-4.2.1.dist-info', 'notebook-7.2.2.dist-info', 'tornado', 'zmq', 'autogluon.text-0.1.0-py3.7-nspkg.pth', 'markupsafe', 'xontrib', 'executing', 'jupyterlab-4.2.5.dist-info', 'sip-6.7.12.dist-info', 'conda_libmamba_solver-23.12.0.dist-info', 'google', 'jupyter_events-0.10.0.dist-info', 'nbconvert-7.16.4.dist-info', 'paramiko-3.5.1.dist-info', 'botocore', 'kiwisolver', 'immutables-0.21.dist-info', 'jupyterlab_widgets', 'msgpack', 'examples', 'json5-0.9.6.dist-info', 'numexpr', 'parso-0.8.3.dist-info', 'python_slugify-8.0.4.dist-info', 'aiohttp-3.10.5.dist-info', 'joblib', 'pycosat.cpython-38-x86_64-linux-gnu.so', 'numpy', 'protobuf-5.29.3.dist-info', 'jupyter_client', 'anyio', 'Pygments-2.15.1.dist-info', 'async_timeout', 'setuptools-68.2.2-py3.8.egg-info', 'jupyter_server-2.14.1.dist-info', 'asttokens-2.0.5.dist-info', 'jupyterlab_pygments-0.1.2.dist-info', 'pycparser-2.21.dist-info', 'minio', 'httpcore-1.0.2.dist-info', 'nbformat', 'setuptools', 'decorator-5.1.1.dist-info', 'toolz-1.0.0.dist-info', 'xyzservices', 'scipy', 'autogluon.extra-0.1.0.dist-info', 'IPython', 'notebook', 'nest_asyncio.py', 'tomli-2.0.1.dist-info', 'jupyter_console', 'catboost', 'matplotlib', 'six.py', 'matplotlib-3.6.3-py3.8-nspkg.pth', 'pyflakes', 'autogluon.core-0.1.0-py3.7-nspkg.pth', 'jsonschema_specifications-2023.7.1.dist-info', 'conda_package_streaming', 'exceptiongroup-1.2.0.dist-info', 'openml', 'PyYAML-6.0.2.dist-info', 'terminado', 'threadpoolctl.py', 'pip', 'overrides-7.4.0.dist-info', 'cycler-0.12.1.dist-info', 'python_json_logger-2.0.7.dist-info', 'jsonpointer.py', 'pyparsing', 'pyasn1', 'babel', 'json5', 'torch', 'paramiko', 'argon2', 'nvidia_cuda_runtime_cu11-11.8.89.dist-info', 'jupyter_server', 'pkgutil_resolve_name-1.3.10.dist-info', 'mpl_toolkits', 'nvidia_cudnn_cu11-9.1.0.70.dist-info', 'cffi-1.16.0.dist-info', 'google_colab-1.0.0-py3.8-nspkg.pth', 'jupyter.py', 'httpx', 'xxhash-3.5.0.dist-info', 'pure_eval', 'torchvision-0.10.1+cu111.dist-info', 'bleach-4.1.0.dist-info', 'platformdirs', 'menuinst', 'pynvml.py', 'importlib_resources', 'torchaudio', 'jupyter_lsp', 'yarl-1.9.4.dist-info', 'regex-2024.11.6.dist-info', 'autogluon.tabular-0.1.0.dist-info', 'boltons-23.0.0.dist-info', 'msgpack-1.1.0.dist-info', 'debugpy-1.6.7.dist-info', 'portalocker-3.0.0.dist-info', 's3transfer-0.11.3.dist-info', 'distro-1.8.0.dist-info', 'fonttools-4.56.0.dist-info', 'sortedcontainers-2.4.0.dist-info', 'prometheus_client-0.14.1.dist-info', 'triton', 'widgetsnbextension-4.0.10.dist-info', 'text_unidecode-1.3.dist-info', 'sortedcontainers', 'fastprogress-1.0.3.dist-info', 'gluoncv-0.10.5.post0.dist-info', 'overrides', 'nvidia_cufft_cu11-10.9.0.58.dist-info', 'kaggle-1.6.17.dist-info', 'packaging-23.1.dist-info', 'pickleshare.py', 'scikit_learn-0.24.2.dist-info', 'ply-3.11-py3.8.egg-info', 'cloudpickle-3.1.1.dist-info', 'debugpy', 'fsspec-2025.2.0.dist-info', 'mccabe.py', 'argon2_cffi_bindings-21.2.0.dist-info', 'autogluon.vision-0.1.0.dist-info', 'autogluon-0.1.0.dist-info', 'tokenizers', 'nvidia', 'tests', 'OpenSSL', 'jmespath-1.0.1.dist-info', 'tokenizers-0.9.4.dist-info', '_pytest', '__pycache__', 'websocket_client-1.8.0.dist-info', 'caffe2', 'pylab.py', 'yaml', 'joblib-1.4.2.dist-info', 'contourpy-1.1.1.dist-info', 'portpicker-1.6.0.dist-info', 'ipykernel', 'jupyterlab_server', 'ruamel.yaml-0.17.21.dist-info', 'jsonpointer-2.1-py3.6.egg-info', 'autogluon.mxnet-0.1.0-py3.7-nspkg.pth', 'fastjsonschema', 'sacrebleu-2.5.1.dist-info', 'plotly-6.0.0.dist-info', 'certifi-2024.8.30.dist-info', 'jinja2', 'pexpect-4.8.0.dist-info', 'iniconfig-2.0.0.dist-info', 'pytz', 'urllib3', 'partd', 'distro', 'frozendict-2.4.2.dist-info', 'tblib', 'fastprogress', 'fontTools', 'PyNaCl-1.5.0.dist-info', 'autograd', 'tqdm-4.65.0.dist-info', 'backcall-0.2.0.dist-info', 'aiosignal', 'opencv_python-4.11.0.86.dist-info', 'soupsieve', 'scikit_learn.libs', 'sniffio', 'widgetsnbextension', 'comm-0.2.1.dist-info', 'rsa-4.9.dist-info', 'zipp-3.20.2.dist-info', 'stack_data-0.2.0.dist-info']\n"
          ]
        }
      ]
    },
    {
      "cell_type": "code",
      "source": [
        "!python -c \"import autogluon.core; print('Core Imported')\"\n",
        "!python -c \"import autogluon.tabular; print('Tabular Imported')\"\n"
      ],
      "metadata": {
        "colab": {
          "base_uri": "https://localhost:8080/"
        },
        "id": "TbuLga4KTIp7",
        "outputId": "02781f78-375c-4427-d5c8-d6f4fbc9eeb4"
      },
      "execution_count": 45,
      "outputs": [
        {
          "output_type": "stream",
          "name": "stdout",
          "text": [
            "Core Imported\n",
            "Tabular Imported\n"
          ]
        }
      ]
    },
    {
      "cell_type": "code",
      "source": [],
      "metadata": {
        "id": "lADphN5nbtOz"
      },
      "execution_count": null,
      "outputs": []
    },
    {
      "cell_type": "code",
      "source": [
        "!which python\n",
        "!python --version\n",
        "!pip show autogluon\n"
      ],
      "metadata": {
        "colab": {
          "base_uri": "https://localhost:8080/"
        },
        "id": "j31fGLvATUnz",
        "outputId": "169aaf17-05c3-44a9-de9d-4b60350c6f43"
      },
      "execution_count": 46,
      "outputs": [
        {
          "output_type": "stream",
          "name": "stdout",
          "text": [
            "/usr/local/bin/python\n",
            "Python 3.8.18\n",
            "Name: autogluon\n",
            "Version: 0.1.0\n",
            "Summary: AutoML for Text, Image, and Tabular Data\n",
            "Home-page: https://github.com/awslabs/autogluon\n",
            "Author: AutoGluon Community\n",
            "Author-email: \n",
            "License: Apache-2.0\n",
            "Location: /usr/local/lib/python3.8/site-packages\n",
            "Requires: autogluon.core, autogluon.extra, autogluon.features, autogluon.mxnet, autogluon.tabular, autogluon.text, autogluon.vision\n",
            "Required-by: \n"
          ]
        }
      ]
    },
    {
      "cell_type": "code",
      "source": [
        "import sys\n",
        "print(sys.executable)\n",
        "print(sys.version)\n",
        "print(sys.path)\n"
      ],
      "metadata": {
        "colab": {
          "base_uri": "https://localhost:8080/"
        },
        "id": "u1O-U4DcTgcy",
        "outputId": "13c94f98-c0b6-49c1-824c-df628fa3b67d"
      },
      "execution_count": 47,
      "outputs": [
        {
          "output_type": "stream",
          "name": "stdout",
          "text": [
            "/usr/bin/python3\n",
            "3.11.11 (main, Dec  4 2024, 08:55:07) [GCC 11.4.0]\n",
            "['/content', '/env/python', '/usr/lib/python311.zip', '', '/usr/lib/python3/dist-packages', '/root/.ipython', '/usr/local/lib/python3.8/site-packages/']\n"
          ]
        }
      ]
    },
    {
      "cell_type": "code",
      "source": [
        "!update-alternatives --install /usr/local/bin/python python /usr/local/bin/python3.8\n",
        "!update-alternatives --config python\n"
      ],
      "metadata": {
        "colab": {
          "base_uri": "https://localhost:8080/"
        },
        "id": "1AcTcMq5bmyC",
        "outputId": "99984126-0c06-45dd-cd1c-0d793a96386f"
      },
      "execution_count": 50,
      "outputs": [
        {
          "output_type": "stream",
          "name": "stdout",
          "text": [
            "update-alternatives: --install needs <link> <name> <path> <priority>\n",
            "\n",
            "Use 'update-alternatives --help' for program usage information.\n",
            "There is only one alternative in link group python (providing /usr/local/bin/python): /usr/local/bin/python3.8\n",
            "Nothing to configure.\n"
          ]
        }
      ]
    },
    {
      "cell_type": "code",
      "source": [
        "import sys\n",
        "sys.path.append('/usr/local/lib/python3.8/site-packages/')\n"
      ],
      "metadata": {
        "id": "1RXZWhmyTjug"
      },
      "execution_count": 15,
      "outputs": []
    },
    {
      "cell_type": "code",
      "source": [
        "!pip install --upgrade --force-reinstall ConfigSpace\n"
      ],
      "metadata": {
        "colab": {
          "base_uri": "https://localhost:8080/"
        },
        "collapsed": true,
        "id": "VuKGdQ50Tuue",
        "outputId": "ed922db6-d306-4282-b4b0-16a2d4999c4d"
      },
      "execution_count": 18,
      "outputs": [
        {
          "output_type": "stream",
          "name": "stdout",
          "text": [
            "Collecting ConfigSpace\n",
            "  Downloading configspace-1.2.1.tar.gz (130 kB)\n",
            "\u001b[?25l     \u001b[90m━━━━━━━━━━━━━━━━━━━━━━━━━━━━━━━━━━━━━━━━\u001b[0m \u001b[32m0.0/131.0 kB\u001b[0m \u001b[31m?\u001b[0m eta \u001b[36m-:--:--\u001b[0m\r\u001b[2K     \u001b[91m━━━━━━━━━━━━━━━━━━━━━━━━━━━━━━━━━━━━━\u001b[0m\u001b[91m╸\u001b[0m\u001b[90m━━\u001b[0m \u001b[32m122.9/131.0 kB\u001b[0m \u001b[31m5.3 MB/s\u001b[0m eta \u001b[36m0:00:01\u001b[0m\r\u001b[2K     \u001b[90m━━━━━━━━━━━━━━━━━━━━━━━━━━━━━━━━━━━━━━━━\u001b[0m \u001b[32m131.0/131.0 kB\u001b[0m \u001b[31m3.4 MB/s\u001b[0m eta \u001b[36m0:00:00\u001b[0m\n",
            "\u001b[?25h  Installing build dependencies ... \u001b[?25l\u001b[?25hdone\n",
            "  Getting requirements to build wheel ... \u001b[?25l\u001b[?25hdone\n",
            "  Preparing metadata (pyproject.toml) ... \u001b[?25l\u001b[?25hdone\n",
            "Collecting numpy (from ConfigSpace)\n",
            "  Downloading numpy-1.24.4-cp38-cp38-manylinux_2_17_x86_64.manylinux2014_x86_64.whl.metadata (5.6 kB)\n",
            "Collecting pyparsing (from ConfigSpace)\n",
            "  Using cached pyparsing-3.1.4-py3-none-any.whl.metadata (5.1 kB)\n",
            "Collecting scipy (from ConfigSpace)\n",
            "  Downloading scipy-1.10.1-cp38-cp38-manylinux_2_17_x86_64.manylinux2014_x86_64.whl.metadata (58 kB)\n",
            "\u001b[2K     \u001b[90m━━━━━━━━━━━━━━━━━━━━━━━━━━━━━━━━━━━━━━━━\u001b[0m \u001b[32m58.9/58.9 kB\u001b[0m \u001b[31m3.9 MB/s\u001b[0m eta \u001b[36m0:00:00\u001b[0m\n",
            "\u001b[?25hCollecting typing-extensions (from ConfigSpace)\n",
            "  Downloading typing_extensions-4.12.2-py3-none-any.whl.metadata (3.0 kB)\n",
            "Collecting more-itertools (from ConfigSpace)\n",
            "  Downloading more_itertools-10.5.0-py3-none-any.whl.metadata (36 kB)\n",
            "Downloading more_itertools-10.5.0-py3-none-any.whl (60 kB)\n",
            "\u001b[2K   \u001b[90m━━━━━━━━━━━━━━━━━━━━━━━━━━━━━━━━━━━━━━━━\u001b[0m \u001b[32m61.0/61.0 kB\u001b[0m \u001b[31m3.9 MB/s\u001b[0m eta \u001b[36m0:00:00\u001b[0m\n",
            "\u001b[?25hDownloading numpy-1.24.4-cp38-cp38-manylinux_2_17_x86_64.manylinux2014_x86_64.whl (17.3 MB)\n",
            "\u001b[2K   \u001b[90m━━━━━━━━━━━━━━━━━━━━━━━━━━━━━━━━━━━━━━━━\u001b[0m \u001b[32m17.3/17.3 MB\u001b[0m \u001b[31m87.2 MB/s\u001b[0m eta \u001b[36m0:00:00\u001b[0m\n",
            "\u001b[?25hUsing cached pyparsing-3.1.4-py3-none-any.whl (104 kB)\n",
            "Downloading scipy-1.10.1-cp38-cp38-manylinux_2_17_x86_64.manylinux2014_x86_64.whl (34.5 MB)\n",
            "\u001b[2K   \u001b[90m━━━━━━━━━━━━━━━━━━━━━━━━━━━━━━━━━━━━━━━━\u001b[0m \u001b[32m34.5/34.5 MB\u001b[0m \u001b[31m41.5 MB/s\u001b[0m eta \u001b[36m0:00:00\u001b[0m\n",
            "\u001b[?25hDownloading typing_extensions-4.12.2-py3-none-any.whl (37 kB)\n",
            "Building wheels for collected packages: ConfigSpace\n",
            "  Building wheel for ConfigSpace (pyproject.toml) ... \u001b[?25l\u001b[?25hdone\n",
            "  Created wheel for ConfigSpace: filename=ConfigSpace-1.2.1-py3-none-any.whl size=115939 sha256=b4073b304405a4ae73712b2f1ece76d279dd6aff988a128c892337f73220d7a4\n",
            "  Stored in directory: /root/.cache/pip/wheels/c1/b1/82/815b444fde9b03d9b982de9e97fc6a230b183e5c49d99aecc2\n",
            "Successfully built ConfigSpace\n",
            "Installing collected packages: typing-extensions, pyparsing, numpy, more-itertools, scipy, ConfigSpace\n",
            "  Attempting uninstall: typing-extensions\n",
            "    Found existing installation: typing_extensions 4.11.0\n",
            "    Uninstalling typing_extensions-4.11.0:\n",
            "      Successfully uninstalled typing_extensions-4.11.0\n",
            "  Attempting uninstall: pyparsing\n",
            "    Found existing installation: pyparsing 3.1.4\n",
            "    Uninstalling pyparsing-3.1.4:\n",
            "      Successfully uninstalled pyparsing-3.1.4\n",
            "  Attempting uninstall: numpy\n",
            "    Found existing installation: numpy 1.19.5\n",
            "    Uninstalling numpy-1.19.5:\n",
            "      Successfully uninstalled numpy-1.19.5\n",
            "  Attempting uninstall: scipy\n",
            "    Found existing installation: scipy 1.5.4\n",
            "    Uninstalling scipy-1.5.4:\n",
            "      Successfully uninstalled scipy-1.5.4\n",
            "  Attempting uninstall: ConfigSpace\n",
            "    Found existing installation: ConfigSpace 0.4.18\n",
            "    Uninstalling ConfigSpace-0.4.18:\n",
            "      Successfully uninstalled ConfigSpace-0.4.18\n",
            "\u001b[31mERROR: pip's dependency resolver does not currently take into account all the packages that are installed. This behaviour is the source of the following dependency conflicts.\n",
            "autogluon-core 0.1.0 requires ConfigSpace==0.4.18, but you have configspace 1.2.1 which is incompatible.\n",
            "autogluon-core 0.1.0 requires numpy==1.19.5, but you have numpy 1.24.4 which is incompatible.\n",
            "autogluon-core 0.1.0 requires scipy==1.5.4, but you have scipy 1.10.1 which is incompatible.\n",
            "autogluon-extra 0.1.0 requires numpy==1.19.5, but you have numpy 1.24.4 which is incompatible.\n",
            "autogluon-extra 0.1.0 requires scipy==1.5.4, but you have scipy 1.10.1 which is incompatible.\n",
            "autogluon-features 0.1.0 requires numpy==1.19.5, but you have numpy 1.24.4 which is incompatible.\n",
            "autogluon-mxnet 0.1.0 requires numpy==1.19.5, but you have numpy 1.24.4 which is incompatible.\n",
            "autogluon-tabular 0.1.0 requires numpy==1.19.5, but you have numpy 1.24.4 which is incompatible.\n",
            "autogluon-tabular 0.1.0 requires scipy==1.5.4, but you have scipy 1.10.1 which is incompatible.\n",
            "autogluon-text 0.1.0 requires numpy==1.19.5, but you have numpy 1.24.4 which is incompatible.\n",
            "autogluon-text 0.1.0 requires scipy==1.5.4, but you have scipy 1.10.1 which is incompatible.\n",
            "autogluon-vision 0.1.0 requires numpy==1.19.5, but you have numpy 1.24.4 which is incompatible.\u001b[0m\u001b[31m\n",
            "\u001b[0mSuccessfully installed ConfigSpace-1.2.1 more-itertools-10.5.0 numpy-1.24.4 pyparsing-3.1.4 scipy-1.10.1 typing-extensions-4.12.2\n"
          ]
        }
      ]
    },
    {
      "cell_type": "code",
      "source": [
        "import sys\n",
        "print(sys.version)\n",
        "print(sys.executable)\n"
      ],
      "metadata": {
        "colab": {
          "base_uri": "https://localhost:8080/"
        },
        "id": "c9N2eTfuUMSd",
        "outputId": "d51e3083-d71a-4494-b91f-5f845de7e482"
      },
      "execution_count": 51,
      "outputs": [
        {
          "output_type": "stream",
          "name": "stdout",
          "text": [
            "3.11.11 (main, Dec  4 2024, 08:55:07) [GCC 11.4.0]\n",
            "/usr/bin/python3\n"
          ]
        }
      ]
    },
    {
      "cell_type": "code",
      "source": [
        "!ls /usr/local/bin/python*\n"
      ],
      "metadata": {
        "colab": {
          "base_uri": "https://localhost:8080/"
        },
        "id": "0vKW12UsUa5R",
        "outputId": "84dc0c9f-4766-4de9-cdcc-d01d97082c39"
      },
      "execution_count": 53,
      "outputs": [
        {
          "output_type": "stream",
          "name": "stdout",
          "text": [
            "/usr/local/bin/python\t/usr/local/bin/python3.8\t /usr/local/bin/python3-config\n",
            "/usr/local/bin/python3\t/usr/local/bin/python3.8-config\n"
          ]
        }
      ]
    },
    {
      "cell_type": "code",
      "source": [
        "!python3.8 -m pip show autogluon\n"
      ],
      "metadata": {
        "colab": {
          "base_uri": "https://localhost:8080/"
        },
        "id": "Z8N6OwK-cHVa",
        "outputId": "20417bf3-5e87-48d0-c64b-ef5a53233673"
      },
      "execution_count": 54,
      "outputs": [
        {
          "output_type": "stream",
          "name": "stdout",
          "text": [
            "Name: autogluon\n",
            "Version: 0.1.0\n",
            "Summary: AutoML for Text, Image, and Tabular Data\n",
            "Home-page: https://github.com/awslabs/autogluon\n",
            "Author: AutoGluon Community\n",
            "Author-email: \n",
            "License: Apache-2.0\n",
            "Location: /usr/local/lib/python3.8/site-packages\n",
            "Requires: autogluon.core, autogluon.extra, autogluon.features, autogluon.mxnet, autogluon.tabular, autogluon.text, autogluon.vision\n",
            "Required-by: \n"
          ]
        }
      ]
    },
    {
      "cell_type": "code",
      "source": [
        "!python --version\n",
        "!python3 --version"
      ],
      "metadata": {
        "colab": {
          "base_uri": "https://localhost:8080/"
        },
        "id": "SywSL4qEUhHj",
        "outputId": "f40ef0c0-cf6a-4076-c98c-6ad0b003c383"
      },
      "execution_count": 22,
      "outputs": [
        {
          "output_type": "stream",
          "name": "stdout",
          "text": [
            "Python 3.8.18\n",
            "Python 3.8.18\n"
          ]
        }
      ]
    },
    {
      "cell_type": "code",
      "source": [
        "!which python\n",
        "!python --version\n"
      ],
      "metadata": {
        "colab": {
          "base_uri": "https://localhost:8080/"
        },
        "id": "RIjXYvAkUqUP",
        "outputId": "43740b4a-5b8e-46c3-dce1-c6729b8dacb5"
      },
      "execution_count": 23,
      "outputs": [
        {
          "output_type": "stream",
          "name": "stdout",
          "text": [
            "/usr/local/bin/python\n",
            "Python 3.8.18\n"
          ]
        }
      ]
    },
    {
      "cell_type": "code",
      "source": [
        "!pip show autogluon\n",
        "!python -c \"import sys; print(sys.path)\"\n"
      ],
      "metadata": {
        "colab": {
          "base_uri": "https://localhost:8080/"
        },
        "id": "JxNx8EaaUtLj",
        "outputId": "51427676-bbc7-4aaa-b1f9-3fe088f85dc0"
      },
      "execution_count": 55,
      "outputs": [
        {
          "output_type": "stream",
          "name": "stdout",
          "text": [
            "Name: autogluon\n",
            "Version: 0.1.0\n",
            "Summary: AutoML for Text, Image, and Tabular Data\n",
            "Home-page: https://github.com/awslabs/autogluon\n",
            "Author: AutoGluon Community\n",
            "Author-email: \n",
            "License: Apache-2.0\n",
            "Location: /usr/local/lib/python3.8/site-packages\n",
            "Requires: autogluon.core, autogluon.extra, autogluon.features, autogluon.mxnet, autogluon.tabular, autogluon.text, autogluon.vision\n",
            "Required-by: \n",
            "['', '/env/python', '/usr/local/lib/python38.zip', '/usr/local/lib/python3.8', '/usr/local/lib/python3.8/lib-dynload', '/usr/local/lib/python3.8/site-packages']\n"
          ]
        }
      ]
    },
    {
      "cell_type": "code",
      "source": [
        "import autogluon\n",
        "import autogluon.core\n",
        "import autogluon.tabular"
      ],
      "metadata": {
        "colab": {
          "base_uri": "https://localhost:8080/",
          "height": 321
        },
        "id": "72bvvxj7UxOX",
        "outputId": "4424893b-667b-424f-c84a-0009f10bd9e9"
      },
      "execution_count": 83,
      "outputs": [
        {
          "output_type": "error",
          "ename": "TypeError",
          "evalue": "can only inherit from a NamedTuple type and Generic",
          "traceback": [
            "\u001b[0;31m---------------------------------------------------------------------------\u001b[0m",
            "\u001b[0;31mTypeError\u001b[0m                                 Traceback (most recent call last)",
            "\u001b[0;32m<ipython-input-83-d79e7de579cb>\u001b[0m in \u001b[0;36m<cell line: 0>\u001b[0;34m()\u001b[0m\n\u001b[1;32m      1\u001b[0m \u001b[0;32mimport\u001b[0m \u001b[0mautogluon\u001b[0m\u001b[0;34m\u001b[0m\u001b[0;34m\u001b[0m\u001b[0m\n\u001b[1;32m      2\u001b[0m \u001b[0;32mimport\u001b[0m \u001b[0mautogluon\u001b[0m\u001b[0;34m.\u001b[0m\u001b[0mcore\u001b[0m\u001b[0;34m\u001b[0m\u001b[0;34m\u001b[0m\u001b[0m\n\u001b[0;32m----> 3\u001b[0;31m \u001b[0;32mimport\u001b[0m \u001b[0mautogluon\u001b[0m\u001b[0;34m.\u001b[0m\u001b[0mtabular\u001b[0m\u001b[0;34m\u001b[0m\u001b[0;34m\u001b[0m\u001b[0m\n\u001b[0m",
            "\u001b[0;32m/usr/local/lib/python3.8/site-packages/autogluon/tabular/__init__.py\u001b[0m in \u001b[0;36m<module>\u001b[0;34m\u001b[0m\n\u001b[1;32m      4\u001b[0m \u001b[0;32mfrom\u001b[0m \u001b[0mautogluon\u001b[0m\u001b[0;34m.\u001b[0m\u001b[0mcore\u001b[0m\u001b[0;34m.\u001b[0m\u001b[0mfeatures\u001b[0m\u001b[0;34m.\u001b[0m\u001b[0mfeature_metadata\u001b[0m \u001b[0;32mimport\u001b[0m \u001b[0mFeatureMetadata\u001b[0m\u001b[0;34m\u001b[0m\u001b[0;34m\u001b[0m\u001b[0m\n\u001b[1;32m      5\u001b[0m \u001b[0;34m\u001b[0m\u001b[0m\n\u001b[0;32m----> 6\u001b[0;31m \u001b[0;32mfrom\u001b[0m \u001b[0;34m.\u001b[0m\u001b[0mpredictor\u001b[0m \u001b[0;32mimport\u001b[0m \u001b[0mTabularPredictor\u001b[0m\u001b[0;34m\u001b[0m\u001b[0;34m\u001b[0m\u001b[0m\n\u001b[0m\u001b[1;32m      7\u001b[0m \u001b[0;34m\u001b[0m\u001b[0m\n\u001b[1;32m      8\u001b[0m \u001b[0mlogging\u001b[0m\u001b[0;34m.\u001b[0m\u001b[0mbasicConfig\u001b[0m\u001b[0;34m(\u001b[0m\u001b[0mformat\u001b[0m\u001b[0;34m=\u001b[0m\u001b[0;34m'%(message)s'\u001b[0m\u001b[0;34m)\u001b[0m  \u001b[0;31m# just print message in logs\u001b[0m\u001b[0;34m\u001b[0m\u001b[0;34m\u001b[0m\u001b[0m\n",
            "\u001b[0;32m/usr/local/lib/python3.8/site-packages/autogluon/tabular/predictor/__init__.py\u001b[0m in \u001b[0;36m<module>\u001b[0;34m\u001b[0m\n\u001b[0;32m----> 1\u001b[0;31m \u001b[0;32mfrom\u001b[0m \u001b[0;34m.\u001b[0m\u001b[0mpredictor\u001b[0m \u001b[0;32mimport\u001b[0m \u001b[0mTabularPredictor\u001b[0m\u001b[0;34m\u001b[0m\u001b[0;34m\u001b[0m\u001b[0m\n\u001b[0m",
            "\u001b[0;32m/usr/local/lib/python3.8/site-packages/autogluon/tabular/predictor/predictor.py\u001b[0m in \u001b[0;36m<module>\u001b[0;34m\u001b[0m\n\u001b[1;32m     13\u001b[0m \u001b[0;32mfrom\u001b[0m \u001b[0mautogluon\u001b[0m\u001b[0;34m.\u001b[0m\u001b[0mcore\u001b[0m\u001b[0;34m.\u001b[0m\u001b[0mdata\u001b[0m\u001b[0;34m.\u001b[0m\u001b[0mlabel_cleaner\u001b[0m \u001b[0;32mimport\u001b[0m \u001b[0mLabelCleanerMulticlassToBinary\u001b[0m\u001b[0;34m\u001b[0m\u001b[0;34m\u001b[0m\u001b[0m\n\u001b[1;32m     14\u001b[0m \u001b[0;32mfrom\u001b[0m \u001b[0mautogluon\u001b[0m\u001b[0;34m.\u001b[0m\u001b[0mcore\u001b[0m\u001b[0;34m.\u001b[0m\u001b[0mdataset\u001b[0m \u001b[0;32mimport\u001b[0m \u001b[0mTabularDataset\u001b[0m\u001b[0;34m\u001b[0m\u001b[0;34m\u001b[0m\u001b[0m\n\u001b[0;32m---> 15\u001b[0;31m \u001b[0;32mfrom\u001b[0m \u001b[0mautogluon\u001b[0m\u001b[0;34m.\u001b[0m\u001b[0mcore\u001b[0m\u001b[0;34m.\u001b[0m\u001b[0mscheduler\u001b[0m\u001b[0;34m.\u001b[0m\u001b[0mscheduler_factory\u001b[0m \u001b[0;32mimport\u001b[0m \u001b[0mscheduler_factory\u001b[0m\u001b[0;34m\u001b[0m\u001b[0;34m\u001b[0m\u001b[0m\n\u001b[0m\u001b[1;32m     16\u001b[0m \u001b[0;32mfrom\u001b[0m \u001b[0mautogluon\u001b[0m\u001b[0;34m.\u001b[0m\u001b[0mcore\u001b[0m\u001b[0;34m.\u001b[0m\u001b[0mconstants\u001b[0m \u001b[0;32mimport\u001b[0m \u001b[0mBINARY\u001b[0m\u001b[0;34m,\u001b[0m \u001b[0mMULTICLASS\u001b[0m\u001b[0;34m,\u001b[0m \u001b[0mREGRESSION\u001b[0m\u001b[0;34m,\u001b[0m \u001b[0mAUTO_WEIGHT\u001b[0m\u001b[0;34m,\u001b[0m \u001b[0mBALANCE_WEIGHT\u001b[0m\u001b[0;34m\u001b[0m\u001b[0;34m\u001b[0m\u001b[0m\n\u001b[1;32m     17\u001b[0m \u001b[0;32mfrom\u001b[0m \u001b[0mautogluon\u001b[0m\u001b[0;34m.\u001b[0m\u001b[0mcore\u001b[0m\u001b[0;34m.\u001b[0m\u001b[0mutils\u001b[0m \u001b[0;32mimport\u001b[0m \u001b[0mplot_performance_vs_trials\u001b[0m\u001b[0;34m,\u001b[0m \u001b[0mplot_summary_of_models\u001b[0m\u001b[0;34m,\u001b[0m \u001b[0mplot_tabular_models\u001b[0m\u001b[0;34m\u001b[0m\u001b[0;34m\u001b[0m\u001b[0m\n",
            "\u001b[0;32m/usr/local/lib/python3.8/site-packages/autogluon/core/scheduler/__init__.py\u001b[0m in \u001b[0;36m<module>\u001b[0;34m\u001b[0m\n\u001b[1;32m      4\u001b[0m \u001b[0;31m# schedulers\u001b[0m\u001b[0;34m\u001b[0m\u001b[0;34m\u001b[0m\u001b[0m\n\u001b[1;32m      5\u001b[0m \u001b[0;32mfrom\u001b[0m \u001b[0;34m.\u001b[0m\u001b[0mscheduler\u001b[0m \u001b[0;32mimport\u001b[0m \u001b[0;34m*\u001b[0m\u001b[0;34m\u001b[0m\u001b[0;34m\u001b[0m\u001b[0m\n\u001b[0;32m----> 6\u001b[0;31m \u001b[0;32mfrom\u001b[0m \u001b[0;34m.\u001b[0m\u001b[0mfifo\u001b[0m \u001b[0;32mimport\u001b[0m \u001b[0;34m*\u001b[0m\u001b[0;34m\u001b[0m\u001b[0;34m\u001b[0m\u001b[0m\n\u001b[0m\u001b[1;32m      7\u001b[0m \u001b[0;32mfrom\u001b[0m \u001b[0;34m.\u001b[0m\u001b[0mhyperband\u001b[0m \u001b[0;32mimport\u001b[0m \u001b[0;34m*\u001b[0m\u001b[0;34m\u001b[0m\u001b[0;34m\u001b[0m\u001b[0m\n\u001b[1;32m      8\u001b[0m \u001b[0;32mfrom\u001b[0m \u001b[0;34m.\u001b[0m\u001b[0mmo_hyperband\u001b[0m \u001b[0;32mimport\u001b[0m \u001b[0;34m*\u001b[0m\u001b[0;34m\u001b[0m\u001b[0;34m\u001b[0m\u001b[0m\n",
            "\u001b[0;32m/usr/local/lib/python3.8/site-packages/autogluon/core/scheduler/fifo.py\u001b[0m in \u001b[0;36m<module>\u001b[0;34m\u001b[0m\n\u001b[1;32m     17\u001b[0m \u001b[0;32mfrom\u001b[0m \u001b[0;34m.\u001b[0m\u001b[0mscheduler\u001b[0m \u001b[0;32mimport\u001b[0m \u001b[0mTaskScheduler\u001b[0m\u001b[0;34m\u001b[0m\u001b[0;34m\u001b[0m\u001b[0m\n\u001b[1;32m     18\u001b[0m \u001b[0;32mfrom\u001b[0m \u001b[0;34m.\u001b[0m\u001b[0;34m.\u001b[0m\u001b[0mdecorator\u001b[0m \u001b[0;32mimport\u001b[0m \u001b[0m_autogluon_method\u001b[0m\u001b[0;34m\u001b[0m\u001b[0;34m\u001b[0m\u001b[0m\n\u001b[0;32m---> 19\u001b[0;31m \u001b[0;32mfrom\u001b[0m \u001b[0;34m.\u001b[0m\u001b[0;34m.\u001b[0m\u001b[0msearcher\u001b[0m \u001b[0;32mimport\u001b[0m \u001b[0mBaseSearcher\u001b[0m\u001b[0;34m\u001b[0m\u001b[0;34m\u001b[0m\u001b[0m\n\u001b[0m\u001b[1;32m     20\u001b[0m \u001b[0;32mfrom\u001b[0m \u001b[0;34m.\u001b[0m\u001b[0;34m.\u001b[0m\u001b[0msearcher\u001b[0m \u001b[0;32mimport\u001b[0m \u001b[0msearcher_factory\u001b[0m\u001b[0;34m\u001b[0m\u001b[0;34m\u001b[0m\u001b[0m\n\u001b[1;32m     21\u001b[0m \u001b[0;32mfrom\u001b[0m \u001b[0;34m.\u001b[0m\u001b[0;34m.\u001b[0m\u001b[0mtask\u001b[0m\u001b[0;34m.\u001b[0m\u001b[0mtask\u001b[0m \u001b[0;32mimport\u001b[0m \u001b[0mTask\u001b[0m\u001b[0;34m\u001b[0m\u001b[0;34m\u001b[0m\u001b[0m\n",
            "\u001b[0;32m/usr/local/lib/python3.8/site-packages/autogluon/core/searcher/__init__.py\u001b[0m in \u001b[0;36m<module>\u001b[0;34m\u001b[0m\n\u001b[1;32m      3\u001b[0m \u001b[0;32mfrom\u001b[0m \u001b[0;34m.\u001b[0m\u001b[0mrl_controller\u001b[0m \u001b[0;32mimport\u001b[0m \u001b[0;34m*\u001b[0m\u001b[0;34m\u001b[0m\u001b[0;34m\u001b[0m\u001b[0m\n\u001b[1;32m      4\u001b[0m \u001b[0;32mfrom\u001b[0m \u001b[0;34m.\u001b[0m\u001b[0mgrid_searcher\u001b[0m \u001b[0;32mimport\u001b[0m \u001b[0;34m*\u001b[0m\u001b[0;34m\u001b[0m\u001b[0;34m\u001b[0m\u001b[0m\n\u001b[0;32m----> 5\u001b[0;31m \u001b[0;32mfrom\u001b[0m \u001b[0;34m.\u001b[0m\u001b[0mgp_searcher\u001b[0m \u001b[0;32mimport\u001b[0m \u001b[0;34m*\u001b[0m\u001b[0;34m\u001b[0m\u001b[0;34m\u001b[0m\u001b[0m\n\u001b[0m\u001b[1;32m      6\u001b[0m \u001b[0;32mfrom\u001b[0m \u001b[0;34m.\u001b[0m\u001b[0msearcher_factory\u001b[0m \u001b[0;32mimport\u001b[0m \u001b[0;34m*\u001b[0m\u001b[0;34m\u001b[0m\u001b[0;34m\u001b[0m\u001b[0m\n",
            "\u001b[0;32m/usr/local/lib/python3.8/site-packages/autogluon/core/searcher/gp_searcher.py\u001b[0m in \u001b[0;36m<module>\u001b[0;34m\u001b[0m\n\u001b[1;32m      2\u001b[0m \u001b[0;32mimport\u001b[0m \u001b[0mmultiprocessing\u001b[0m \u001b[0;32mas\u001b[0m \u001b[0mmp\u001b[0m\u001b[0;34m\u001b[0m\u001b[0;34m\u001b[0m\u001b[0m\n\u001b[1;32m      3\u001b[0m \u001b[0;34m\u001b[0m\u001b[0m\n\u001b[0;32m----> 4\u001b[0;31m \u001b[0;32mfrom\u001b[0m \u001b[0;34m.\u001b[0m\u001b[0mbayesopt\u001b[0m\u001b[0;34m.\u001b[0m\u001b[0mautogluon\u001b[0m\u001b[0;34m.\u001b[0m\u001b[0msearcher_factory\u001b[0m \u001b[0;32mimport\u001b[0m \u001b[0mgp_fifo_searcher_factory\u001b[0m\u001b[0;34m,\u001b[0m\u001b[0;31m \u001b[0m\u001b[0;31m\\\u001b[0m\u001b[0;34m\u001b[0m\u001b[0;34m\u001b[0m\u001b[0m\n\u001b[0m\u001b[1;32m      5\u001b[0m     \u001b[0mgp_multifidelity_searcher_factory\u001b[0m\u001b[0;34m,\u001b[0m \u001b[0mgp_fifo_searcher_defaults\u001b[0m\u001b[0;34m,\u001b[0m\u001b[0;31m \u001b[0m\u001b[0;31m\\\u001b[0m\u001b[0;34m\u001b[0m\u001b[0;34m\u001b[0m\u001b[0m\n\u001b[1;32m      6\u001b[0m     \u001b[0mgp_multifidelity_searcher_defaults\u001b[0m\u001b[0;34m\u001b[0m\u001b[0;34m\u001b[0m\u001b[0m\n",
            "\u001b[0;32m/usr/local/lib/python3.8/site-packages/autogluon/core/searcher/bayesopt/autogluon/searcher_factory.py\u001b[0m in \u001b[0;36m<module>\u001b[0;34m\u001b[0m\n\u001b[1;32m      3\u001b[0m \u001b[0;34m\u001b[0m\u001b[0m\n\u001b[1;32m      4\u001b[0m \u001b[0;32mfrom\u001b[0m \u001b[0;34m.\u001b[0m\u001b[0mdebug_log\u001b[0m \u001b[0;32mimport\u001b[0m \u001b[0mDebugLogPrinter\u001b[0m\u001b[0;34m\u001b[0m\u001b[0;34m\u001b[0m\u001b[0m\n\u001b[0;32m----> 5\u001b[0;31m \u001b[0;32mfrom\u001b[0m \u001b[0;34m.\u001b[0m\u001b[0mgp_fifo_searcher\u001b[0m \u001b[0;32mimport\u001b[0m \u001b[0mGPFIFOSearcher\u001b[0m\u001b[0;34m,\u001b[0m \u001b[0mmap_reward\u001b[0m\u001b[0;34m,\u001b[0m \u001b[0mMapReward\u001b[0m\u001b[0;34m,\u001b[0m\u001b[0;31m \u001b[0m\u001b[0;31m\\\u001b[0m\u001b[0;34m\u001b[0m\u001b[0;34m\u001b[0m\u001b[0m\n\u001b[0m\u001b[1;32m      6\u001b[0m     \u001b[0mDEFAULT_INITIAL_SCORING\u001b[0m\u001b[0;34m,\u001b[0m \u001b[0mSUPPORTED_INITIAL_SCORING\u001b[0m\u001b[0;34m\u001b[0m\u001b[0;34m\u001b[0m\u001b[0m\n\u001b[1;32m      7\u001b[0m \u001b[0;32mfrom\u001b[0m \u001b[0;34m.\u001b[0m\u001b[0mgp_multifidelity_searcher\u001b[0m \u001b[0;32mimport\u001b[0m \u001b[0mGPMultiFidelitySearcher\u001b[0m\u001b[0;34m,\u001b[0m\u001b[0;31m \u001b[0m\u001b[0;31m\\\u001b[0m\u001b[0;34m\u001b[0m\u001b[0;34m\u001b[0m\u001b[0m\n",
            "\u001b[0;32m/usr/local/lib/python3.8/site-packages/autogluon/core/searcher/bayesopt/autogluon/gp_fifo_searcher.py\u001b[0m in \u001b[0;36m<module>\u001b[0;34m\u001b[0m\n\u001b[1;32m     15\u001b[0m \u001b[0;32mfrom\u001b[0m \u001b[0;34m.\u001b[0m\u001b[0;34m.\u001b[0m\u001b[0mmodels\u001b[0m\u001b[0;34m.\u001b[0m\u001b[0mgpmodel_transformers\u001b[0m \u001b[0;32mimport\u001b[0m \u001b[0mGPModelPendingCandidateStateTransformer\u001b[0m\u001b[0;34m,\u001b[0m \u001b[0mGPModelArgs\u001b[0m\u001b[0;34m\u001b[0m\u001b[0;34m\u001b[0m\u001b[0m\n\u001b[1;32m     16\u001b[0m \u001b[0;32mfrom\u001b[0m \u001b[0;34m.\u001b[0m\u001b[0;34m.\u001b[0m\u001b[0mtuning_algorithms\u001b[0m\u001b[0;34m.\u001b[0m\u001b[0mbase_classes\u001b[0m \u001b[0;32mimport\u001b[0m \u001b[0mLocalOptimizer\u001b[0m\u001b[0;34m,\u001b[0m \u001b[0mAcquisitionFunction\u001b[0m\u001b[0;34m,\u001b[0m \u001b[0mScoringFunction\u001b[0m\u001b[0;34m\u001b[0m\u001b[0;34m\u001b[0m\u001b[0m\n\u001b[0;32m---> 17\u001b[0;31m \u001b[0;32mfrom\u001b[0m \u001b[0;34m.\u001b[0m\u001b[0;34m.\u001b[0m\u001b[0mtuning_algorithms\u001b[0m\u001b[0;34m.\u001b[0m\u001b[0mbo_algorithm\u001b[0m \u001b[0;32mimport\u001b[0m \u001b[0mBayesianOptimizationAlgorithm\u001b[0m\u001b[0;34m\u001b[0m\u001b[0;34m\u001b[0m\u001b[0m\n\u001b[0m\u001b[1;32m     18\u001b[0m \u001b[0;32mfrom\u001b[0m \u001b[0;34m.\u001b[0m\u001b[0;34m.\u001b[0m\u001b[0mtuning_algorithms\u001b[0m\u001b[0;34m.\u001b[0m\u001b[0mbo_algorithm_components\u001b[0m \u001b[0;32mimport\u001b[0m \u001b[0mIndependentThompsonSampling\u001b[0m\u001b[0;34m\u001b[0m\u001b[0;34m\u001b[0m\u001b[0m\n\u001b[1;32m     19\u001b[0m \u001b[0;32mfrom\u001b[0m \u001b[0;34m.\u001b[0m\u001b[0;34m.\u001b[0m\u001b[0mtuning_algorithms\u001b[0m\u001b[0;34m.\u001b[0m\u001b[0mcommon\u001b[0m \u001b[0;32mimport\u001b[0m \u001b[0mRandomStatefulCandidateGenerator\u001b[0m\u001b[0;34m,\u001b[0m \u001b[0mcompute_blacklisted_candidates\u001b[0m\u001b[0;34m\u001b[0m\u001b[0;34m\u001b[0m\u001b[0m\n",
            "\u001b[0;32m/usr/local/lib/python3.8/site-packages/autogluon/core/searcher/bayesopt/tuning_algorithms/bo_algorithm.py\u001b[0m in \u001b[0;36m<module>\u001b[0;34m\u001b[0m\n\u001b[1;32m     15\u001b[0m \u001b[0;34m\u001b[0m\u001b[0m\n\u001b[1;32m     16\u001b[0m \u001b[0;34m\u001b[0m\u001b[0m\n\u001b[0;32m---> 17\u001b[0;31m \u001b[0;32mclass\u001b[0m \u001b[0mBayesianOptimizationAlgorithm\u001b[0m\u001b[0;34m(\u001b[0m\u001b[0mNamedTuple\u001b[0m\u001b[0;34m,\u001b[0m \u001b[0mNextCandidatesAlgorithm\u001b[0m\u001b[0;34m)\u001b[0m\u001b[0;34m:\u001b[0m\u001b[0;34m\u001b[0m\u001b[0;34m\u001b[0m\u001b[0m\n\u001b[0m\u001b[1;32m     18\u001b[0m     \"\"\"\n\u001b[1;32m     19\u001b[0m     \u001b[0mCore\u001b[0m \u001b[0mlogic\u001b[0m \u001b[0mof\u001b[0m \u001b[0mthe\u001b[0m \u001b[0mBayesian\u001b[0m \u001b[0moptimization\u001b[0m \u001b[0malgorithm\u001b[0m\u001b[0;34m\u001b[0m\u001b[0;34m\u001b[0m\u001b[0m\n",
            "\u001b[0;32m/usr/lib/python3.11/typing.py\u001b[0m in \u001b[0;36m__new__\u001b[0;34m(cls, typename, bases, ns)\u001b[0m\n\u001b[1;32m   2912\u001b[0m         \u001b[0;32mfor\u001b[0m \u001b[0mbase\u001b[0m \u001b[0;32min\u001b[0m \u001b[0mbases\u001b[0m\u001b[0;34m:\u001b[0m\u001b[0;34m\u001b[0m\u001b[0;34m\u001b[0m\u001b[0m\n\u001b[1;32m   2913\u001b[0m             \u001b[0;32mif\u001b[0m \u001b[0mbase\u001b[0m \u001b[0;32mis\u001b[0m \u001b[0;32mnot\u001b[0m \u001b[0m_NamedTuple\u001b[0m \u001b[0;32mand\u001b[0m \u001b[0mbase\u001b[0m \u001b[0;32mis\u001b[0m \u001b[0;32mnot\u001b[0m \u001b[0mGeneric\u001b[0m\u001b[0;34m:\u001b[0m\u001b[0;34m\u001b[0m\u001b[0;34m\u001b[0m\u001b[0m\n\u001b[0;32m-> 2914\u001b[0;31m                 raise TypeError(\n\u001b[0m\u001b[1;32m   2915\u001b[0m                     'can only inherit from a NamedTuple type and Generic')\n\u001b[1;32m   2916\u001b[0m         \u001b[0mbases\u001b[0m \u001b[0;34m=\u001b[0m \u001b[0mtuple\u001b[0m\u001b[0;34m(\u001b[0m\u001b[0mtuple\u001b[0m \u001b[0;32mif\u001b[0m \u001b[0mbase\u001b[0m \u001b[0;32mis\u001b[0m \u001b[0m_NamedTuple\u001b[0m \u001b[0;32melse\u001b[0m \u001b[0mbase\u001b[0m \u001b[0;32mfor\u001b[0m \u001b[0mbase\u001b[0m \u001b[0;32min\u001b[0m \u001b[0mbases\u001b[0m\u001b[0;34m)\u001b[0m\u001b[0;34m\u001b[0m\u001b[0;34m\u001b[0m\u001b[0m\n",
            "\u001b[0;31mTypeError\u001b[0m: can only inherit from a NamedTuple type and Generic"
          ]
        }
      ]
    },
    {
      "cell_type": "code",
      "source": [
        "!pip uninstall pyOpenSSL"
      ],
      "metadata": {
        "colab": {
          "base_uri": "https://localhost:8080/"
        },
        "id": "bEGn9OWhU8m1",
        "outputId": "40182074-56dc-4f5f-ab0b-d706c6d55aff"
      },
      "execution_count": 27,
      "outputs": [
        {
          "output_type": "stream",
          "name": "stdout",
          "text": [
            "Found existing installation: pyOpenSSL 23.2.0\n",
            "Uninstalling pyOpenSSL-23.2.0:\n",
            "  Would remove:\n",
            "    /usr/local/lib/python3.8/site-packages/OpenSSL/*\n",
            "    /usr/local/lib/python3.8/site-packages/pyOpenSSL-23.2.0.dist-info/*\n",
            "Proceed (Y/n)? y\n",
            "  Successfully uninstalled pyOpenSSL-23.2.0\n"
          ]
        }
      ]
    },
    {
      "cell_type": "code",
      "source": [
        "!which python3.8\n",
        "!which python3.11\n",
        "!which python\n",
        "!python --version\n"
      ],
      "metadata": {
        "colab": {
          "base_uri": "https://localhost:8080/"
        },
        "id": "RGXs-Pb6VULM",
        "outputId": "843c30ec-0945-4753-f252-54ff76ebaef2"
      },
      "execution_count": 29,
      "outputs": [
        {
          "output_type": "stream",
          "name": "stdout",
          "text": [
            "/usr/local/bin/python3.8\n",
            "/usr/bin/python3.11\n",
            "/usr/local/bin/python\n",
            "Python 3.8.18\n"
          ]
        }
      ]
    },
    {
      "cell_type": "code",
      "source": [
        "import sys\n",
        "sys.path = [p for p in sys.path if \"python3.11\" not in p]\n",
        "print(sys.path)\n"
      ],
      "metadata": {
        "colab": {
          "base_uri": "https://localhost:8080/"
        },
        "id": "Ia_MRp1oVXRA",
        "outputId": "73b7589b-19ea-4778-ceb4-c248fa2894bc"
      },
      "execution_count": 30,
      "outputs": [
        {
          "output_type": "stream",
          "name": "stdout",
          "text": [
            "['/content', '/env/python', '/usr/lib/python311.zip', '', '/usr/lib/python3/dist-packages', '/root/.ipython', '/usr/local/lib/python3.8/site-packages/']\n"
          ]
        }
      ]
    },
    {
      "cell_type": "code",
      "source": [
        "!pip uninstall -y torch torchvision\n"
      ],
      "metadata": {
        "colab": {
          "base_uri": "https://localhost:8080/"
        },
        "id": "eY1Ix56iV1wz",
        "outputId": "ff70177f-c088-4c20-e858-0b440b63de75"
      },
      "execution_count": 61,
      "outputs": [
        {
          "output_type": "stream",
          "name": "stdout",
          "text": [
            "\u001b[33mWARNING: Skipping torch as it is not installed.\u001b[0m\u001b[33m\n",
            "\u001b[0m\u001b[33mWARNING: Skipping torchvision as it is not installed.\u001b[0m\u001b[33m\n",
            "\u001b[0m"
          ]
        }
      ]
    },
    {
      "cell_type": "code",
      "source": [
        "!rm -rf /usr/local/lib/python3.8/site-packages/torch*\n"
      ],
      "metadata": {
        "id": "RTQX9QkyV3i0"
      },
      "execution_count": 62,
      "outputs": []
    },
    {
      "cell_type": "code",
      "source": [
        "!python3.8 -m pip install torch torchvision torchaudio --index-url https://download.pytorch.org/whl/cu118\n"
      ],
      "metadata": {
        "colab": {
          "base_uri": "https://localhost:8080/"
        },
        "collapsed": true,
        "id": "NXMHl8miV8Hp",
        "outputId": "a6d5b032-0a0b-4c1f-8977-da303d5c9d77"
      },
      "execution_count": 63,
      "outputs": [
        {
          "output_type": "stream",
          "name": "stdout",
          "text": [
            "Looking in indexes: https://download.pytorch.org/whl/cu118\n",
            "Collecting torch\n",
            "  Using cached https://download.pytorch.org/whl/cu118/torch-2.4.1%2Bcu118-cp38-cp38-linux_x86_64.whl (857.6 MB)\n",
            "Collecting torchvision\n",
            "  Using cached https://download.pytorch.org/whl/cu118/torchvision-0.19.1%2Bcu118-cp38-cp38-linux_x86_64.whl (6.3 MB)\n",
            "Collecting torchaudio\n",
            "  Using cached https://download.pytorch.org/whl/cu118/torchaudio-2.4.1%2Bcu118-cp38-cp38-linux_x86_64.whl (3.3 MB)\n",
            "Requirement already satisfied: filelock in /usr/local/lib/python3.8/site-packages (from torch) (3.13.1)\n",
            "Requirement already satisfied: typing-extensions>=4.8.0 in /usr/local/lib/python3.8/site-packages (from torch) (4.12.2)\n",
            "Requirement already satisfied: sympy in /usr/local/lib/python3.8/site-packages (from torch) (1.13.1)\n",
            "Requirement already satisfied: networkx in /usr/local/lib/python3.8/site-packages (from torch) (2.8.8)\n",
            "Requirement already satisfied: jinja2 in /usr/local/lib/python3.8/site-packages (from torch) (3.1.4)\n",
            "Requirement already satisfied: fsspec in /usr/local/lib/python3.8/site-packages (from torch) (2025.2.0)\n",
            "Requirement already satisfied: nvidia-cuda-nvrtc-cu11==11.8.89 in /usr/local/lib/python3.8/site-packages (from torch) (11.8.89)\n",
            "Requirement already satisfied: nvidia-cuda-runtime-cu11==11.8.89 in /usr/local/lib/python3.8/site-packages (from torch) (11.8.89)\n",
            "Requirement already satisfied: nvidia-cuda-cupti-cu11==11.8.87 in /usr/local/lib/python3.8/site-packages (from torch) (11.8.87)\n",
            "Requirement already satisfied: nvidia-cudnn-cu11==9.1.0.70 in /usr/local/lib/python3.8/site-packages (from torch) (9.1.0.70)\n",
            "Requirement already satisfied: nvidia-cublas-cu11==11.11.3.6 in /usr/local/lib/python3.8/site-packages (from torch) (11.11.3.6)\n",
            "Requirement already satisfied: nvidia-cufft-cu11==10.9.0.58 in /usr/local/lib/python3.8/site-packages (from torch) (10.9.0.58)\n",
            "Requirement already satisfied: nvidia-curand-cu11==10.3.0.86 in /usr/local/lib/python3.8/site-packages (from torch) (10.3.0.86)\n",
            "Requirement already satisfied: nvidia-cusolver-cu11==11.4.1.48 in /usr/local/lib/python3.8/site-packages (from torch) (11.4.1.48)\n",
            "Requirement already satisfied: nvidia-cusparse-cu11==11.7.5.86 in /usr/local/lib/python3.8/site-packages (from torch) (11.7.5.86)\n",
            "Requirement already satisfied: nvidia-nccl-cu11==2.20.5 in /usr/local/lib/python3.8/site-packages (from torch) (2.20.5)\n",
            "Requirement already satisfied: nvidia-nvtx-cu11==11.8.86 in /usr/local/lib/python3.8/site-packages (from torch) (11.8.86)\n",
            "Requirement already satisfied: triton==3.0.0 in /usr/local/lib/python3.8/site-packages (from torch) (3.0.0)\n",
            "Requirement already satisfied: numpy in /usr/local/lib/python3.8/site-packages (from torchvision) (1.19.5)\n",
            "Requirement already satisfied: pillow!=8.3.*,>=5.3.0 in /usr/local/lib/python3.8/site-packages (from torchvision) (8.1.0)\n",
            "Requirement already satisfied: MarkupSafe>=2.0 in /usr/local/lib/python3.8/site-packages (from jinja2->torch) (2.1.3)\n",
            "Requirement already satisfied: mpmath<1.4,>=1.1.0 in /usr/local/lib/python3.8/site-packages (from sympy->torch) (1.3.0)\n",
            "Installing collected packages: torch, torchvision, torchaudio\n",
            "Successfully installed torch-2.4.1+cu118 torchaudio-2.4.1+cu118 torchvision-0.19.1+cu118\n"
          ]
        }
      ]
    },
    {
      "cell_type": "code",
      "source": [
        "!pip show autogluon-core | grep Requires\n"
      ],
      "metadata": {
        "colab": {
          "base_uri": "https://localhost:8080/"
        },
        "id": "H4Gnh5v8W1_m",
        "outputId": "8253fcb9-2795-474e-e7a9-1cc369d32c5c"
      },
      "execution_count": 39,
      "outputs": [
        {
          "output_type": "stream",
          "name": "stdout",
          "text": [
            "Requires: autograd, boto3, ConfigSpace, cython, dask, dill, distributed, graphviz, matplotlib, numpy, pandas, paramiko, requests, scikit-learn, scipy, tornado, tqdm\n"
          ]
        }
      ]
    },
    {
      "cell_type": "code",
      "source": [
        "!python3.8 -m pip install torch==1.9.1+cu111 torchvision==0.10.1+cu111 torchaudio==0.9.1 -f https://download.pytorch.org/whl/torch_stable.html\n"
      ],
      "metadata": {
        "colab": {
          "base_uri": "https://localhost:8080/"
        },
        "id": "PvzJy2_RW9hA",
        "outputId": "0f008885-7c52-4980-8cb3-4abd7a569659"
      },
      "execution_count": 40,
      "outputs": [
        {
          "output_type": "stream",
          "name": "stdout",
          "text": [
            "Looking in links: https://download.pytorch.org/whl/torch_stable.html\n",
            "Collecting torch==1.9.1+cu111\n",
            "  Downloading https://download.pytorch.org/whl/cu111/torch-1.9.1%2Bcu111-cp38-cp38-linux_x86_64.whl (2041.3 MB)\n",
            "\u001b[2K     \u001b[90m━━━━━━━━━━━━━━━━━━━━━━━━━━━━━━━━━━━━━━━━\u001b[0m \u001b[32m2.0/2.0 GB\u001b[0m \u001b[31m?\u001b[0m eta \u001b[36m0:00:00\u001b[0m\n",
            "\u001b[?25hCollecting torchvision==0.10.1+cu111\n",
            "  Downloading https://download.pytorch.org/whl/cu111/torchvision-0.10.1%2Bcu111-cp38-cp38-linux_x86_64.whl (20.6 MB)\n",
            "\u001b[2K     \u001b[90m━━━━━━━━━━━━━━━━━━━━━━━━━━━━━━━━━━━━━━━━\u001b[0m \u001b[32m20.6/20.6 MB\u001b[0m \u001b[31m69.8 MB/s\u001b[0m eta \u001b[36m0:00:00\u001b[0m\n",
            "\u001b[?25hCollecting torchaudio==0.9.1\n",
            "  Downloading torchaudio-0.9.1-cp38-cp38-manylinux1_x86_64.whl.metadata (1.1 kB)\n",
            "Requirement already satisfied: typing-extensions in /usr/local/lib/python3.8/site-packages (from torch==1.9.1+cu111) (4.12.2)\n",
            "Requirement already satisfied: numpy in /usr/local/lib/python3.8/site-packages (from torchvision==0.10.1+cu111) (1.24.4)\n",
            "Requirement already satisfied: pillow>=5.3.0 in /usr/local/lib/python3.8/site-packages (from torchvision==0.10.1+cu111) (8.1.0)\n",
            "Downloading torchaudio-0.9.1-cp38-cp38-manylinux1_x86_64.whl (1.9 MB)\n",
            "\u001b[2K   \u001b[90m━━━━━━━━━━━━━━━━━━━━━━━━━━━━━━━━━━━━━━━━\u001b[0m \u001b[32m1.9/1.9 MB\u001b[0m \u001b[31m22.6 MB/s\u001b[0m eta \u001b[36m0:00:00\u001b[0m\n",
            "\u001b[?25hInstalling collected packages: torch, torchvision, torchaudio\n",
            "  Attempting uninstall: torch\n",
            "    Found existing installation: torch 2.4.1+cu118\n",
            "    Uninstalling torch-2.4.1+cu118:\n",
            "      Successfully uninstalled torch-2.4.1+cu118\n",
            "  Attempting uninstall: torchvision\n",
            "    Found existing installation: torchvision 0.19.1+cu118\n",
            "    Uninstalling torchvision-0.19.1+cu118:\n",
            "      Successfully uninstalled torchvision-0.19.1+cu118\n",
            "  Attempting uninstall: torchaudio\n",
            "    Found existing installation: torchaudio 2.4.1+cu118\n",
            "    Uninstalling torchaudio-2.4.1+cu118:\n",
            "      Successfully uninstalled torchaudio-2.4.1+cu118\n",
            "Successfully installed torch-1.9.1+cu111 torchaudio-0.9.1 torchvision-0.10.1+cu111\n"
          ]
        }
      ]
    },
    {
      "cell_type": "code",
      "execution_count": 73,
      "metadata": {
        "id": "PK8HQ-WJLRix"
      },
      "outputs": [],
      "source": [
        "\n",
        "  # Imports\n",
        "\n",
        "import autogluon as ag\n",
        "import autogluon.core as agco\n",
        "import pandas as pd\n",
        "import matplotlib.pyplot as plt\n",
        "\n",
        "import numpy as np\n",
        "import pandas as pd\n",
        "from sklearn.datasets import load_iris\n",
        "from sklearn.model_selection import train_test_split\n",
        "from sklearn.metrics import accuracy_score, precision_score, recall_score, f1_score, confusion_matrix\n",
        "\n"
      ]
    },
    {
      "cell_type": "code",
      "source": [
        "# Getting the data and setting up the hyperparameters\n",
        "iris = load_iris()\n",
        "X = pd.DataFrame(iris[\"data\"], columns=iris[\"feature_names\"])\n",
        "Y = pd.DataFrame(iris[\"target\"], columns=[\"target\"])\n",
        "\n",
        "Y_ = iris[\"feature_names\"].copy()\n",
        "Y_.append([\"target\"])\n",
        "\n",
        "X = pd.concat([X, Y], axis=1)\n",
        "\n",
        "X_train, X_test = train_test_split(X, test_size=0.2, random_state=42)\n",
        "\n",
        "X_train.to_csv(\"train.csv\", index=False)\n",
        "X_test.to_csv(\"test.csv\", index=False)\n",
        "\n",
        "batch = [2,4]\n",
        "lr = [1e-3, 1e-5]\n",
        "epochs = [1, 3, 5]"
      ],
      "metadata": {
        "id": "qpH22mEldmzH"
      },
      "execution_count": 75,
      "outputs": []
    },
    {
      "cell_type": "code",
      "source": [
        "# Grid Search\n",
        "\n",
        "@agco.args(\n",
        "    lr = agco.space.Categorical([1e-3, 1e-5]),\n",
        "    batch = agco.space.Categorical([2,4]),\n",
        "    e = agco.space.Categorical([1,3,5]),\n",
        ")\n"
      ],
      "metadata": {
        "colab": {
          "base_uri": "https://localhost:8080/",
          "height": 106
        },
        "id": "0t-1ojyMNx_s",
        "outputId": "f99a14f6-65b2-4e6e-bb62-c3e211b34260"
      },
      "execution_count": 85,
      "outputs": [
        {
          "output_type": "error",
          "ename": "SyntaxError",
          "evalue": "incomplete input (<ipython-input-85-666e874f2f1d>, line 8)",
          "traceback": [
            "\u001b[0;36m  File \u001b[0;32m\"<ipython-input-85-666e874f2f1d>\"\u001b[0;36m, line \u001b[0;32m8\u001b[0m\n\u001b[0;31m    )\u001b[0m\n\u001b[0m     ^\u001b[0m\n\u001b[0;31mSyntaxError\u001b[0m\u001b[0;31m:\u001b[0m incomplete input\n"
          ]
        }
      ]
    },
    {
      "cell_type": "code",
      "source": [
        "!pip install scikit-optimize\n"
      ],
      "metadata": {
        "colab": {
          "base_uri": "https://localhost:8080/"
        },
        "id": "onxelm7ffdez",
        "outputId": "5fc877b9-85e8-468d-8284-f83db55d6183"
      },
      "execution_count": 80,
      "outputs": [
        {
          "output_type": "stream",
          "name": "stdout",
          "text": [
            "Collecting scikit-optimize\n",
            "  Downloading scikit_optimize-0.10.2-py2.py3-none-any.whl.metadata (9.7 kB)\n",
            "Requirement already satisfied: joblib>=0.11 in /usr/local/lib/python3.8/site-packages (from scikit-optimize) (1.4.2)\n",
            "Collecting pyaml>=16.9 (from scikit-optimize)\n",
            "  Downloading pyaml-25.1.0-py3-none-any.whl.metadata (12 kB)\n",
            "Collecting numpy>=1.20.3 (from scikit-optimize)\n",
            "  Using cached numpy-1.24.4-cp38-cp38-manylinux_2_17_x86_64.manylinux2014_x86_64.whl.metadata (5.6 kB)\n",
            "Requirement already satisfied: scipy>=1.1.0 in /usr/local/lib/python3.8/site-packages (from scikit-optimize) (1.5.4)\n",
            "Collecting scikit-learn>=1.0.0 (from scikit-optimize)\n",
            "  Downloading scikit_learn-1.3.2-cp38-cp38-manylinux_2_17_x86_64.manylinux2014_x86_64.whl.metadata (11 kB)\n",
            "Requirement already satisfied: packaging>=21.3 in /usr/local/lib/python3.8/site-packages (from scikit-optimize) (23.1)\n",
            "Requirement already satisfied: PyYAML in /usr/local/lib/python3.8/site-packages (from pyaml>=16.9->scikit-optimize) (6.0.2)\n",
            "Requirement already satisfied: threadpoolctl>=2.0.0 in /usr/local/lib/python3.8/site-packages (from scikit-learn>=1.0.0->scikit-optimize) (3.5.0)\n",
            "Downloading scikit_optimize-0.10.2-py2.py3-none-any.whl (107 kB)\n",
            "\u001b[2K   \u001b[90m━━━━━━━━━━━━━━━━━━━━━━━━━━━━━━━━━━━━━━━━\u001b[0m \u001b[32m107.8/107.8 kB\u001b[0m \u001b[31m7.7 MB/s\u001b[0m eta \u001b[36m0:00:00\u001b[0m\n",
            "\u001b[?25hUsing cached numpy-1.24.4-cp38-cp38-manylinux_2_17_x86_64.manylinux2014_x86_64.whl (17.3 MB)\n",
            "Downloading pyaml-25.1.0-py3-none-any.whl (26 kB)\n",
            "Downloading scikit_learn-1.3.2-cp38-cp38-manylinux_2_17_x86_64.manylinux2014_x86_64.whl (11.1 MB)\n",
            "\u001b[2K   \u001b[90m━━━━━━━━━━━━━━━━━━━━━━━━━━━━━━━━━━━━━━━━\u001b[0m \u001b[32m11.1/11.1 MB\u001b[0m \u001b[31m79.3 MB/s\u001b[0m eta \u001b[36m0:00:00\u001b[0m\n",
            "\u001b[?25hInstalling collected packages: pyaml, numpy, scikit-learn, scikit-optimize\n",
            "  Attempting uninstall: numpy\n",
            "    Found existing installation: numpy 1.19.5\n",
            "    Uninstalling numpy-1.19.5:\n",
            "      Successfully uninstalled numpy-1.19.5\n",
            "  Attempting uninstall: scikit-learn\n",
            "    Found existing installation: scikit-learn 0.24.2\n",
            "    Uninstalling scikit-learn-0.24.2:\n",
            "      Successfully uninstalled scikit-learn-0.24.2\n",
            "\u001b[31mERROR: pip's dependency resolver does not currently take into account all the packages that are installed. This behaviour is the source of the following dependency conflicts.\n",
            "autogluon-core 0.1.0 requires numpy==1.19.5, but you have numpy 1.24.4 which is incompatible.\n",
            "autogluon-core 0.1.0 requires scikit-learn<0.25,>=0.22.0, but you have scikit-learn 1.3.2 which is incompatible.\n",
            "autogluon-extra 0.1.0 requires numpy==1.19.5, but you have numpy 1.24.4 which is incompatible.\n",
            "autogluon-extra 0.1.0 requires scikit-learn<0.25,>=0.22.0, but you have scikit-learn 1.3.2 which is incompatible.\n",
            "autogluon-features 0.1.0 requires numpy==1.19.5, but you have numpy 1.24.4 which is incompatible.\n",
            "autogluon-features 0.1.0 requires scikit-learn<0.25,>=0.22.0, but you have scikit-learn 1.3.2 which is incompatible.\n",
            "autogluon-mxnet 0.1.0 requires numpy==1.19.5, but you have numpy 1.24.4 which is incompatible.\n",
            "autogluon-mxnet 0.1.0 requires scikit-learn<0.25,>=0.22.0, but you have scikit-learn 1.3.2 which is incompatible.\n",
            "autogluon-tabular 0.1.0 requires numpy==1.19.5, but you have numpy 1.24.4 which is incompatible.\n",
            "autogluon-tabular 0.1.0 requires scikit-learn<0.25,>=0.22.0, but you have scikit-learn 1.3.2 which is incompatible.\n",
            "autogluon-text 0.1.0 requires numpy==1.19.5, but you have numpy 1.24.4 which is incompatible.\n",
            "autogluon-text 0.1.0 requires scikit-learn<0.25,>=0.22.0, but you have scikit-learn 1.3.2 which is incompatible.\n",
            "autogluon-vision 0.1.0 requires numpy==1.19.5, but you have numpy 1.24.4 which is incompatible.\u001b[0m\u001b[31m\n",
            "\u001b[0mSuccessfully installed numpy-1.24.4 pyaml-25.1.0 scikit-learn-1.3.2 scikit-optimize-0.10.2\n"
          ]
        }
      ]
    },
    {
      "cell_type": "code",
      "source": [
        "# Load dataset\n",
        "iris = load_iris()\n",
        "X = pd.DataFrame(iris[\"data\"], columns=iris[\"feature_names\"])\n",
        "Y = pd.DataFrame(iris[\"target\"], columns=[\"target\"])\n",
        "\n",
        "X_train, X_test, y_train, y_test = train_test_split(X, Y, test_size=0.2, random_state=42)\n",
        "\n",
        "# Define hyperparameter space\n",
        "param_grid = {\n",
        "    \"batch\": [2, 4],\n",
        "    \"lr\": [1e-3, 1e-5],\n",
        "    \"epochs\": [1, 3, 5]\n",
        "}\n"
      ],
      "metadata": {
        "id": "B3CgNL4qiV78"
      },
      "execution_count": 88,
      "outputs": []
    },
    {
      "cell_type": "code",
      "source": [],
      "metadata": {
        "id": "OhgDqVuyjMCy"
      },
      "execution_count": null,
      "outputs": []
    }
  ],
  "metadata": {
    "accelerator": "TPU",
    "colab": {
      "gpuType": "V28",
      "provenance": []
    },
    "kernelspec": {
      "display_name": "Python 3",
      "name": "python3"
    },
    "language_info": {
      "name": "python"
    }
  },
  "nbformat": 4,
  "nbformat_minor": 0
}